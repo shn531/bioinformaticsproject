{
  "cells": [
    {
      "cell_type": "markdown",
      "metadata": {
        "id": "_SmTogjeMD47"
      },
      "source": [
        "# 생물정보학 및 실습 1 - Term Project용 Mission 2 환경 셋업"
      ]
    },
    {
      "cell_type": "markdown",
      "metadata": {
        "id": "o7NwoWdnMuHS"
      },
      "source": [
        "```\n",
        "생물정보학 및 실습 1\n",
        "서울대학교 협동과정 생물정보학전공 2022년 1학기\n",
        "\n",
        "이 노트북은 Creative Commons BY-SA 조건으로 재사용 가능합니다.\n",
        "장혜식 <hyeshik@snu.ac.kr>, 서울대학교 생명과학부\n",
        "```\n",
        "\n",
        "이 노트북은 Google Colab을 이용해서 Term Project를 할 수 있도록 환경을 준비해 줍니다. 터미널 사용이 원활하지 않은 상태이고, 데이터를 오랫동안 보관하기 어렵기 때문에 되도록 개인용 컴퓨터에서 [Anaconda](https://www.anaconda.com/)나 [JupyterLab](https://jupyterlab.readthedocs.io/en/stable/) 등을 설치하고 사용하시는 것이 편하지만, 개인용 컴퓨터 사양이 부족한 경우에는 Google CoLab을 사용할 수도 있습니다. 개인용 컴퓨터를 쓸 때는 Windows에서는 [WSL2](https://docs.microsoft.com/en-us/windows/wsl/install-win10)를 쓰시면 리눅스 커맨드라인 환경을 쓸 수 있습니다. Google Colab은 창을 닫은 후 90분 후, 또는 창을 처음 열고 12시간 후에 환경을 닫아버리기 때문에 매번 실습할 때마다 새로 셋업이 필요합니다. `Runtime->Run All`을 실행해서 전체를 한 번 실행하시면 준비됩니다. 모든 것이 잘 안 되고 뭔가 꼬인 느낌이 강하게 들 때는 `Runtime->Factory reset runtime`을 누르고 새로 시작하시면 될 수도 있습니다.\n"
      ]
    },
    {
      "cell_type": "markdown",
      "metadata": {
        "id": "O4ofnSipMuHa"
      },
      "source": [
        "## Google Drive 마운트\n",
        "\n",
        "데이터 파일들을 불러오고 저장하기 위해서 Google Drive를 연결합니다. **이번엔 스크립트 파일을 편집해야 하기 때문에 Google Drive 마운트를 하지 않으면 vim등 콘솔에서 쓸 수 있는 에디터를 쓰셔야 합니다.** 화면에 나오는 주소를 눌러서 인증하고 인증 코드를 그 아래에 입력하세요. 그러면 `/contents/drive/MyDrive`에서 자신의 Drive 최상단 폴더가 보입니다. Google CoLab에서 접속하지 않고, 본인 컴퓨터 또는 연구실 워크스테이션 등 다른 컴퓨터를 쓰시는 경우에는 저장공간이 충분하므로 이 부분은 생략하고 지나갑니다."
      ]
    },
    {
      "cell_type": "code",
      "execution_count": 17,
      "metadata": {
        "colab": {
          "base_uri": "https://localhost:8080/"
        },
        "id": "2kWbS8JWMuHa",
        "outputId": "a8e10cda-1487-4e53-fe09-e7ba13c8db42"
      },
      "outputs": [
        {
          "output_type": "stream",
          "name": "stdout",
          "text": [
            "Drive already mounted at /content/drive; to attempt to forcibly remount, call drive.mount(\"/content/drive\", force_remount=True).\n"
          ]
        }
      ],
      "source": [
        "from google.colab import drive\n",
        "drive.mount('/content/drive')"
      ]
    },
    {
      "cell_type": "markdown",
      "metadata": {
        "id": "xQZGShwEMuHa"
      },
      "source": [
        "## 실습용 Bioconda 환경 설치하기\n",
        "Google CoLab에서 접속하지 않고, 본인 컴퓨터 또는 연구실 워크스테이션 등 다른 컴퓨터를 쓰시는 경우에는 따로 실습용 [Bioconda](https://bioconda.github.io/) 환경을 구축해서 이 노트북을 그 환경 안에서 띄우시면 됩니다.\n",
        "\n",
        "CoLab을 쓰시는 분들은 다음에 따라서 실습용 프로그램들을 쉽게 설치할 수 있도록 [Bioconda](https://bioconda.github.io/) 환경을 만듭니다. 실행하고 진행상황을 관찰하다가 에러로 보이는 것이 있으면 잘 읽어보고 해결합니다.\n",
        "\n",
        "파이썬 모듈들은 Colab쪽의 파이썬 인터프리터를 바꿀 수 없기 때문에 Conda에 설치하더라도 사용하기 어렵습니다. 파이썬 모듈은 `pip` 명령어로 설치하시면 Colab에서 불러와서 사용할 수 있습니다.\n",
        "\n",
        "환경 초기화에 관련된 스크립트는 [GitHub 프로젝트](https://github.com/hyeshik/colab-biolab)에 있습니다."
      ]
    },
    {
      "cell_type": "code",
      "execution_count": 18,
      "metadata": {
        "colab": {
          "base_uri": "https://localhost:8080/"
        },
        "id": "_i5ZwVHUMuHb",
        "outputId": "91d75f14-ca81-4790-ee5f-9782c1273d7b"
      },
      "outputs": [
        {
          "output_type": "stream",
          "name": "stdout",
          "text": [
            "fatal: destination path 'colab-biolab' already exists and is not an empty directory.\n",
            "./\n",
            "./root/\n",
            "./root/.bashrc.biolab\n",
            "./root/.bin.priority/\n",
            "./root/.bin.priority/pip\n",
            "./root/.bin.priority/pip2\n",
            "./root/.bin.priority/pip3\n",
            "./root/.condarc\n",
            "./root/.profile\n",
            "./root/.tmux.conf\n",
            "tar: ./root: file changed as we read it\n",
            "./root/.vimrc\n",
            "PREFIX=/root/conda\n",
            "Unpacking payload ...\n",
            "Collecting package metadata (current_repodata.json): - \b\b\\ \b\b| \b\b/ \b\bdone\n",
            "Solving environment: \\ \b\b| \b\b/ \b\b- \b\bdone\n",
            "\n",
            "# All requested packages already installed.\n",
            "\n",
            "installation finished.\n",
            "WARNING:\n",
            "    You currently have a PYTHONPATH environment variable set. This may cause\n",
            "    unexpected behavior when running the Python interpreter in Miniconda3.\n",
            "    For best results, please verify that your PYTHONPATH only points to\n",
            "    directories of packages that are compatible with the Python interpreter\n",
            "    in Miniconda3: /root/conda\n",
            "Collecting package metadata (current_repodata.json): - \b\b\\ \b\b| \b\b/ \b\b- \b\b\\ \b\b| \b\b/ \b\b- \b\b\\ \b\b| \b\b/ \b\b- \b\b\\ \b\b| \b\b/ \b\b- \b\b\\ \b\b| \b\b/ \b\b- \b\b\\ \b\b| \b\b/ \b\b- \b\b\\ \b\b| \b\b/ \b\b- \b\b\\ \b\b| \b\b/ \b\b- \b\b\\ \b\b| \b\b/ \b\b- \b\b\\ \b\b| \b\b/ \b\b- \b\b\\ \b\b| \b\b/ \b\b- \b\b\\ \b\b| \b\b/ \b\b- \b\b\\ \b\b| \b\b/ \b\b- \b\b\\ \b\b| \b\b/ \b\b- \b\b\\ \b\b| \b\b/ \b\b- \b\b\\ \b\b| \b\b/ \b\b- \b\b\\ \b\b| \b\b/ \b\b- \b\b\\ \b\b| \b\b/ \b\b- \b\b\\ \b\b| \b\b/ \b\b- \b\b\\ \b\b| \b\b/ \b\b- \b\b\\ \b\b| \b\b/ \b\b- \b\b\\ \b\b| \b\b/ \b\b- \b\b\\ \b\b| \b\b/ \b\b- \b\b\\ \b\b| \b\b/ \b\b- \b\b\\ \b\b| \b\b/ \b\b- \b\bdone\n",
            "Solving environment: | \b\b/ \b\b- \b\b\\ \b\b| \b\b/ \b\b- \b\b\\ \b\b| \b\b/ \b\b- \b\b\\ \b\b| \b\b/ \b\b- \b\b\\ \b\b| \b\b/ \b\b- \b\b\\ \b\b| \b\b/ \b\b- \b\b\\ \b\b| \b\b/ \b\b- \b\b\\ \b\b| \b\b/ \b\b- \b\b\\ \b\b| \b\b/ \b\b- \b\b\\ \b\b| \b\b/ \b\b- \b\b\\ \b\b| \b\b/ \b\b- \b\b\\ \b\b| \b\b/ \b\b- \b\b\\ \b\b| \b\b/ \b\b- \b\b\\ \b\b| \b\b/ \b\b- \b\b\\ \b\b| \b\b/ \b\b- \b\b\\ \b\b| \b\b/ \b\b- \b\b\\ \b\b| \b\b/ \b\b- \b\b\\ \b\b| \b\b/ \b\b- \b\b\\ \b\b| \b\b/ \b\b- \b\b\\ \b\b| \b\b/ \b\b- \b\b\\ \b\b| \b\b/ \b\b- \b\b\\ \b\b| \b\b/ \b\b- \b\b\\ \b\b| \b\b/ \b\b- \b\b\\ \b\b| \b\b/ \b\b- \b\bdone\n",
            "\n",
            "\n",
            "==> WARNING: A newer version of conda exists. <==\n",
            "  current version: 4.11.0\n",
            "  latest version: 4.12.0\n",
            "\n",
            "Please update conda by running\n",
            "\n",
            "    $ conda update -n base -c defaults conda\n",
            "\n",
            "\n",
            "\n",
            "## Package Plan ##\n",
            "\n",
            "  environment location: /root/conda/envs/lab\n",
            "\n",
            "  added / updated specs:\n",
            "    - bedtools\n",
            "    - biopython\n",
            "    - bwa\n",
            "    - cython\n",
            "    - matplotlib\n",
            "    - numpy\n",
            "    - pandas\n",
            "    - pip\n",
            "    - pysam\n",
            "    - samtools\n",
            "    - scipy\n",
            "    - star\n",
            "\n",
            "\n",
            "The following packages will be downloaded:\n",
            "\n",
            "    package                    |            build\n",
            "    ---------------------------|-----------------\n",
            "    pyparsing-3.0.9            |     pyhd8ed1ab_0          79 KB  conda-forge\n",
            "    ------------------------------------------------------------\n",
            "                                           Total:          79 KB\n",
            "\n",
            "The following NEW packages will be INSTALLED:\n",
            "\n",
            "  _libgcc_mutex      conda-forge/linux-64::_libgcc_mutex-0.1-conda_forge\n",
            "  _openmp_mutex      conda-forge/linux-64::_openmp_mutex-4.5-2_gnu\n",
            "  alsa-lib           conda-forge/linux-64::alsa-lib-1.2.3.2-h166bdaf_0\n",
            "  bedtools           bioconda/linux-64::bedtools-2.30.0-h468198e_3\n",
            "  biopython          conda-forge/linux-64::biopython-1.79-py39h3811e60_1\n",
            "  brotli             conda-forge/linux-64::brotli-1.0.9-h166bdaf_7\n",
            "  brotli-bin         conda-forge/linux-64::brotli-bin-1.0.9-h166bdaf_7\n",
            "  bwa                bioconda/linux-64::bwa-0.7.17-h7132678_9\n",
            "  bzip2              conda-forge/linux-64::bzip2-1.0.8-h7f98852_4\n",
            "  c-ares             conda-forge/linux-64::c-ares-1.18.1-h7f98852_0\n",
            "  ca-certificates    conda-forge/linux-64::ca-certificates-2021.10.8-ha878542_0\n",
            "  certifi            conda-forge/linux-64::certifi-2021.10.8-py39hf3d152e_2\n",
            "  cycler             conda-forge/noarch::cycler-0.11.0-pyhd8ed1ab_0\n",
            "  cython             conda-forge/linux-64::cython-0.29.28-py39h5a03fae_2\n",
            "  dbus               conda-forge/linux-64::dbus-1.13.6-h5008d03_3\n",
            "  expat              conda-forge/linux-64::expat-2.4.8-h27087fc_0\n",
            "  fontconfig         conda-forge/linux-64::fontconfig-2.14.0-h8e229c2_0\n",
            "  fonttools          conda-forge/linux-64::fonttools-4.33.3-py39hb9d737c_0\n",
            "  freetype           conda-forge/linux-64::freetype-2.10.4-h0708190_1\n",
            "  gettext            conda-forge/linux-64::gettext-0.19.8.1-h73d1719_1008\n",
            "  giflib             conda-forge/linux-64::giflib-5.2.1-h36c2ea0_2\n",
            "  gst-plugins-base   conda-forge/linux-64::gst-plugins-base-1.18.5-hf529b03_3\n",
            "  gstreamer          conda-forge/linux-64::gstreamer-1.18.5-h9f60fe5_3\n",
            "  htslib             bioconda/linux-64::htslib-1.15.1-h9753748_0\n",
            "  icu                conda-forge/linux-64::icu-68.2-h9c3ff4c_0\n",
            "  jbig               conda-forge/linux-64::jbig-2.1-h7f98852_2003\n",
            "  jpeg               conda-forge/linux-64::jpeg-9e-h166bdaf_1\n",
            "  keyutils           conda-forge/linux-64::keyutils-1.6.1-h166bdaf_0\n",
            "  kiwisolver         conda-forge/linux-64::kiwisolver-1.4.2-py39hf939315_1\n",
            "  krb5               conda-forge/linux-64::krb5-1.19.3-h3790be6_0\n",
            "  lcms2              conda-forge/linux-64::lcms2-2.12-hddcbb42_0\n",
            "  ld_impl_linux-64   conda-forge/linux-64::ld_impl_linux-64-2.36.1-hea4e1c9_2\n",
            "  lerc               conda-forge/linux-64::lerc-3.0-h9c3ff4c_0\n",
            "  libblas            conda-forge/linux-64::libblas-3.9.0-14_linux64_openblas\n",
            "  libbrotlicommon    conda-forge/linux-64::libbrotlicommon-1.0.9-h166bdaf_7\n",
            "  libbrotlidec       conda-forge/linux-64::libbrotlidec-1.0.9-h166bdaf_7\n",
            "  libbrotlienc       conda-forge/linux-64::libbrotlienc-1.0.9-h166bdaf_7\n",
            "  libcblas           conda-forge/linux-64::libcblas-3.9.0-14_linux64_openblas\n",
            "  libclang           conda-forge/linux-64::libclang-11.1.0-default_ha53f305_1\n",
            "  libcurl            conda-forge/linux-64::libcurl-7.83.0-h7bff187_0\n",
            "  libdeflate         conda-forge/linux-64::libdeflate-1.10-h7f98852_0\n",
            "  libedit            conda-forge/linux-64::libedit-3.1.20191231-he28a2e2_2\n",
            "  libev              conda-forge/linux-64::libev-4.33-h516909a_1\n",
            "  libevent           conda-forge/linux-64::libevent-2.1.10-h9b69904_4\n",
            "  libffi             conda-forge/linux-64::libffi-3.4.2-h7f98852_5\n",
            "  libgcc-ng          conda-forge/linux-64::libgcc-ng-11.2.0-h1d223b6_16\n",
            "  libgfortran-ng     conda-forge/linux-64::libgfortran-ng-11.2.0-h69a702a_16\n",
            "  libgfortran5       conda-forge/linux-64::libgfortran5-11.2.0-h5c6108e_16\n",
            "  libglib            conda-forge/linux-64::libglib-2.70.2-h174f98d_4\n",
            "  libgomp            conda-forge/linux-64::libgomp-11.2.0-h1d223b6_16\n",
            "  libiconv           conda-forge/linux-64::libiconv-1.16-h516909a_0\n",
            "  liblapack          conda-forge/linux-64::liblapack-3.9.0-14_linux64_openblas\n",
            "  libllvm11          conda-forge/linux-64::libllvm11-11.1.0-hf817b99_3\n",
            "  libnghttp2         conda-forge/linux-64::libnghttp2-1.47.0-h727a467_0\n",
            "  libnsl             conda-forge/linux-64::libnsl-2.0.0-h7f98852_0\n",
            "  libogg             conda-forge/linux-64::libogg-1.3.4-h7f98852_1\n",
            "  libopenblas        conda-forge/linux-64::libopenblas-0.3.20-pthreads_h78a6416_0\n",
            "  libopus            conda-forge/linux-64::libopus-1.3.1-h7f98852_1\n",
            "  libpng             conda-forge/linux-64::libpng-1.6.37-h21135ba_2\n",
            "  libpq              conda-forge/linux-64::libpq-13.5-hd57d9b9_1\n",
            "  libssh2            conda-forge/linux-64::libssh2-1.10.0-ha56f1ee_2\n",
            "  libstdcxx-ng       conda-forge/linux-64::libstdcxx-ng-11.2.0-he4da1e4_16\n",
            "  libtiff            conda-forge/linux-64::libtiff-4.3.0-h542a066_3\n",
            "  libuuid            conda-forge/linux-64::libuuid-2.32.1-h7f98852_1000\n",
            "  libvorbis          conda-forge/linux-64::libvorbis-1.3.7-h9c3ff4c_0\n",
            "  libwebp            conda-forge/linux-64::libwebp-1.2.2-h3452ae3_0\n",
            "  libwebp-base       conda-forge/linux-64::libwebp-base-1.2.2-h7f98852_1\n",
            "  libxcb             conda-forge/linux-64::libxcb-1.13-h7f98852_1004\n",
            "  libxkbcommon       conda-forge/linux-64::libxkbcommon-1.0.3-he3ba5ed_0\n",
            "  libxml2            conda-forge/linux-64::libxml2-2.9.10-h72842e0_4\n",
            "  libzlib            conda-forge/linux-64::libzlib-1.2.11-h166bdaf_1014\n",
            "  lz4-c              conda-forge/linux-64::lz4-c-1.9.3-h9c3ff4c_1\n",
            "  matplotlib         conda-forge/linux-64::matplotlib-3.5.2-py39hf3d152e_0\n",
            "  matplotlib-base    conda-forge/linux-64::matplotlib-base-3.5.2-py39h700656a_0\n",
            "  munkres            conda-forge/noarch::munkres-1.1.4-pyh9f0ad1d_0\n",
            "  mysql-common       conda-forge/linux-64::mysql-common-8.0.29-haf5c9bc_0\n",
            "  mysql-libs         conda-forge/linux-64::mysql-libs-8.0.29-h28c427c_0\n",
            "  ncurses            conda-forge/linux-64::ncurses-6.3-h27087fc_1\n",
            "  nspr               conda-forge/linux-64::nspr-4.32-h9c3ff4c_1\n",
            "  nss                conda-forge/linux-64::nss-3.77-h2350873_0\n",
            "  numpy              conda-forge/linux-64::numpy-1.22.3-py39hc58783e_2\n",
            "  openjpeg           conda-forge/linux-64::openjpeg-2.4.0-hb52868f_1\n",
            "  openssl            conda-forge/linux-64::openssl-1.1.1o-h166bdaf_0\n",
            "  packaging          conda-forge/noarch::packaging-21.3-pyhd8ed1ab_0\n",
            "  pandas             conda-forge/linux-64::pandas-1.4.2-py39h1832856_1\n",
            "  pcre               conda-forge/linux-64::pcre-8.45-h9c3ff4c_0\n",
            "  perl               conda-forge/linux-64::perl-5.32.1-2_h7f98852_perl5\n",
            "  pillow             conda-forge/linux-64::pillow-9.1.0-py39hae2aec6_2\n",
            "  pip                conda-forge/noarch::pip-22.0.4-pyhd8ed1ab_0\n",
            "  pthread-stubs      conda-forge/linux-64::pthread-stubs-0.4-h36c2ea0_1001\n",
            "  pyparsing          conda-forge/noarch::pyparsing-3.0.9-pyhd8ed1ab_0\n",
            "  pyqt               conda-forge/linux-64::pyqt-5.12.3-py39hf3d152e_8\n",
            "  pyqt-impl          conda-forge/linux-64::pyqt-impl-5.12.3-py39hde8b62d_8\n",
            "  pyqt5-sip          conda-forge/linux-64::pyqt5-sip-4.19.18-py39he80948d_8\n",
            "  pyqtchart          conda-forge/linux-64::pyqtchart-5.12-py39h0fcd23e_8\n",
            "  pyqtwebengine      conda-forge/linux-64::pyqtwebengine-5.12.1-py39h0fcd23e_8\n",
            "  pysam              bioconda/linux-64::pysam-0.19.0-py39h5030a8b_0\n",
            "  python             conda-forge/linux-64::python-3.9.12-h9a8a25e_1_cpython\n",
            "  python-dateutil    conda-forge/noarch::python-dateutil-2.8.2-pyhd8ed1ab_0\n",
            "  python_abi         conda-forge/linux-64::python_abi-3.9-2_cp39\n",
            "  pytz               conda-forge/noarch::pytz-2022.1-pyhd8ed1ab_0\n",
            "  qt                 conda-forge/linux-64::qt-5.12.9-hda022c4_4\n",
            "  readline           conda-forge/linux-64::readline-8.1-h46c0cb4_0\n",
            "  samtools           bioconda/linux-64::samtools-1.15.1-h1170115_0\n",
            "  scipy              conda-forge/linux-64::scipy-1.8.0-py39hee8e79c_1\n",
            "  setuptools         conda-forge/linux-64::setuptools-62.2.0-py39hf3d152e_0\n",
            "  six                conda-forge/noarch::six-1.16.0-pyh6c4a22f_0\n",
            "  sqlite             conda-forge/linux-64::sqlite-3.38.5-h4ff8645_0\n",
            "  star               bioconda/linux-64::star-2.7.10a-h9ee0642_0\n",
            "  tk                 conda-forge/linux-64::tk-8.6.12-h27826a3_0\n",
            "  tornado            conda-forge/linux-64::tornado-6.1-py39hb9d737c_3\n",
            "  tzdata             conda-forge/noarch::tzdata-2022a-h191b570_0\n",
            "  unicodedata2       conda-forge/linux-64::unicodedata2-14.0.0-py39hb9d737c_1\n",
            "  wheel              conda-forge/noarch::wheel-0.37.1-pyhd8ed1ab_0\n",
            "  xorg-libxau        conda-forge/linux-64::xorg-libxau-1.0.9-h7f98852_0\n",
            "  xorg-libxdmcp      conda-forge/linux-64::xorg-libxdmcp-1.1.3-h7f98852_0\n",
            "  xz                 conda-forge/linux-64::xz-5.2.5-h516909a_1\n",
            "  zlib               conda-forge/linux-64::zlib-1.2.11-h166bdaf_1014\n",
            "  zstd               conda-forge/linux-64::zstd-1.5.2-ha95c52a_0\n",
            "\n",
            "\n",
            "\n",
            "Downloading and Extracting Packages\n",
            "pyparsing-3.0.9      | 79 KB     | : 100% 1.0/1 [00:00<00:00,  7.18it/s]                \n",
            "Preparing transaction: | \b\b/ \b\b- \b\b\\ \b\b| \b\b/ \b\b- \b\b\\ \b\b| \b\b/ \b\b- \b\b\\ \b\b| \b\bdone\n",
            "Verifying transaction: - \b\b\\ \b\b| \b\b/ \b\b- \b\b\\ \b\b| \b\b/ \b\b- \b\b\\ \b\b| \b\b/ \b\b- \b\b\\ \b\b| \b\b/ \b\b- \b\b\\ \b\b| \b\b/ \b\b- \b\b\\ \b\b| \b\b/ \b\b- \b\b\\ \b\b| \b\b/ \b\b- \b\b\\ \b\b| \b\b/ \b\b- \b\b\\ \b\b| \b\b/ \b\b- \b\b\\ \b\b| \b\b/ \b\b- \b\b\\ \b\b| \b\b/ \b\b- \b\b\\ \b\b| \b\b/ \b\b- \b\b\\ \b\b| \b\b/ \b\b- \b\b\\ \b\b| \b\b/ \b\b- \b\b\\ \b\bdone\n",
            "Executing transaction: / \b\b- \b\b\\ \b\b| \b\b/ \b\b- \b\b\\ \b\b| \b\b/ \b\b- \b\b\\ \b\b| \b\b/ \b\b- \b\b\\ \b\b| \b\b/ \b\b- \b\b\\ \b\b| \b\b/ \b\b- \b\b\\ \b\b| \b\b/ \b\b- \b\b\\ \b\b| \b\b/ \b\b- \b\b\\ \b\b| \b\b/ \b\b- \b\b\\ \b\b| \b\b/ \b\b- \b\b\\ \b\b| \b\b/ \b\b- \b\b\\ \b\b| \b\b/ \b\b- \b\b\\ \b\b| \b\b/ \b\bdone\n",
            "#\n",
            "# To activate this environment, use\n",
            "#\n",
            "#     $ conda activate lab\n",
            "#\n",
            "# To deactivate an active environment, use\n",
            "#\n",
            "#     $ conda deactivate\n",
            "\n",
            "Activated conda environment `lab'!\n"
          ]
        }
      ],
      "source": [
        "!git clone https://github.com/hyeshik/colab-biolab.git\n",
        "!cd colab-biolab && bash tools/setup.sh\n",
        "exec(open('colab-biolab/tools/activate_conda.py').read())"
      ]
    },
    {
      "cell_type": "markdown",
      "metadata": {
        "id": "3Sabp7OAMuHb"
      },
      "source": [
        "설정이 끝났으면, 이제 콘솔을 열어서 터미널로 접속할 수 있는 통로를 열어줍니다."
      ]
    },
    {
      "cell_type": "markdown",
      "metadata": {
        "id": "z6RiPiSRMuHb"
      },
      "source": [
        "## 시퀀싱 데이터 다운로드\n",
        "이제 실습 수업에서 필요한 시퀀싱 데이터를 다운로드 받아서 설치합시다. 드라이브 공간만 충분하면 데이터는 계속 저장돼 있기 때문에 학기 전체를 통해서 딱 한 번만 하시면 됩니다. Colab에서는 작업용 데이터를 Google Drive 폴더 아래의 `binfo-datapack1`에 저장합니다. 실습용 데이터는 `/content/drive/MyDrive/binfo1-datapack1`에 풀리게 됩니다.\n",
        "\n",
        "### (Option 1) Google CoLab에서 접속한 경우\n",
        "1. [Google Drive 공유폴더](https://drive.google.com/drive/folders/1Y190lbO42VEzjjQkgoxNf_EcZJlHyZa1?usp=sharing)에 접속합니다.\n",
        "1. 중간 제목줄의 \"binfo1-datapack1 ▾\"에서 ▾을 누릅니다.\n",
        "1. Add shortcut to Drive를 누릅니다.\n",
        "1. My Drive를 선택해서 ADD SHORTCUT 버튼을 누릅니다.\n",
        "1. 다음 cell을 실행해서 링크가 제대로 들어왔는지 확인합니다. (바로 확인되지 않으면 3–5분 정도 기다렸다가 하면 됩니다.)\n",
        "1. 제대로 확인되면 다음으로 넘어갑니다.\n"
      ]
    },
    {
      "cell_type": "code",
      "execution_count": null,
      "metadata": {
        "colab": {
          "base_uri": "https://localhost:8080/"
        },
        "id": "D24wKYriG8tI",
        "outputId": "4f7edc8f-bf0d-464f-b12c-89128813f396"
      },
      "outputs": [
        {
          "name": "stdout",
          "output_type": "stream",
          "text": [
            "total 4823989\n",
            "-rw------- 1 root root 1370036258 May  1 10:01 CLIP-35L33G.bam\n",
            "-rw------- 1 root root    3118336 May  1 10:01 CLIP-35L33G.bam.bai\n",
            "drwx------ 5 root root       4096 May 10 18:29 colab-biolab\n",
            "-rw------- 1 root root       1229 May 10 18:18 filtered-RPF-siLuc.bam\n",
            "-rw------- 1 root root          0 May 10 17:57 fivepcounts-filtered-RPF-siLuc.txt\n",
            "-rw------- 1 root root          0 May 10 17:56 fivepcounts-RPF-siLuc.bed\n",
            "-rw------- 1 root root     855103 May 10 17:59 gencode-exons-containing-startcodon.bed\n",
            "-rw------- 1 root root  883334756 Mar  9  2021 gencode.gtf\n",
            "-rw------- 1 root root          0 May 10 18:24 gencode.gtf.gz\n",
            "-rw------- 1 root root   26842797 May 10 17:55 gencode-plusexon.gtf\n",
            "-rw------- 1 root root    1063832 May 10 17:54 gencode-start.gtf\n",
            "drwx------ 2 root root       4096 May  1 10:33 .ipynb_checkpoints\n",
            "-rw------- 1 root root   24009950 May  1 10:54 read-counts.txt\n",
            "-rw------- 1 root root        715 May  1 14:51 read-counts.txt.summary\n",
            "-rw------- 1 root root 1003658801 May  1 10:04 RNA-control.bam\n",
            "-rw------- 1 root root    2276104 May  1 10:04 RNA-control.bam.bai\n",
            "-rw------- 1 root root  865313792 May  1 10:06 RNA-siLin28a.bam\n",
            "-rw------- 1 root root    2710744 May  6  2021 RNA-siLin28a.bam.bai\n",
            "-rw------- 1 root root  677530624 Apr 29 06:35 RNA-siLuc.bam\n",
            "-rw------- 1 root root    2606104 May  1 10:10 RNA-siLuc.bam.bai\n",
            "-rw------- 1 root root   35651584 May  1 10:13 RPF-siLin28a.bam\n",
            "-rw------- 1 root root    2482768 May  1 10:10 RPF-siLin28a.bam.bai\n",
            "-rw------- 1 root root   35651584 May  1 10:13 RPF-siLuc.bam\n",
            "-rw------- 1 root root    2605912 May  1 10:10 RPF-siLuc.bam.bai\n",
            "-rw------- 1 root root          0 May  1 10:42 temp-core-002912-0242AC1C0002.sam\n"
          ]
        }
      ],
      "source": [
        "!ls -al /content/drive/MyDrive/binfo1-datapack1/"
      ]
    },
    {
      "cell_type": "markdown",
      "metadata": {
        "id": "OZ0KkKrmG-M4"
      },
      "source": [
        "### (Option 2) CoLab외의 다른 환경에서 접속한 경우\n",
        "본인 컴퓨터나 연구실 워크스테이션 등에서 작업하는 경우에는 다음 명령어로 다운로드 받으시면 됩니다. 첫 번째에는 wget이 접속오류를 내는 경우가 많으니, 접속에러가 발생하면 다시 한 번 실행해 보세요. `/content/drive/Mydrive` 부분은 원하는 저장 경로로 바꿔서 지정하시면 됩니다."
      ]
    },
    {
      "cell_type": "code",
      "execution_count": null,
      "metadata": {
        "colab": {
          "base_uri": "https://localhost:8080/"
        },
        "id": "LnLWxOljMuHb",
        "outputId": "556cf3b0-8390-4d10-d1c6-3794cc7d7d3f"
      },
      "outputs": [
        {
          "name": "stdout",
          "output_type": "stream",
          "text": [
            "--2022-05-10 18:20:18--  https://hyeshik.qbio.io/binfo/binfo1-datapack1.tar\n",
            "Resolving hyeshik.qbio.io (hyeshik.qbio.io)... 147.47.203.129\n",
            "Connecting to hyeshik.qbio.io (hyeshik.qbio.io)|147.47.203.129|:443... connected.\n",
            "Unable to establish SSL connection.\n",
            "tar: This does not look like a tar archive\n",
            "tar: Exiting with failure status due to previous errors\n"
          ]
        }
      ],
      "source": [
        "!wget -O - --no-check-certificate https://hyeshik.qbio.io/binfo/binfo1-datapack1.tar | tar -C /content/drive/MyDrive -xf -"
      ]
    },
    {
      "cell_type": "markdown",
      "metadata": {
        "id": "jfQRBt3eMuHc"
      },
      "source": [
        "그리고, GENCODE Annotation 데이터도 미리 받아서 저장해 둡니다. 에러가 나면 다시 한 번 실행해 봅니다."
      ]
    },
    {
      "cell_type": "code",
      "execution_count": null,
      "metadata": {
        "id": "o3vbErniMuHc"
      },
      "outputs": [],
      "source": [
        "!wget --no-check-certificate -O /content/drive/MyDrive/binfo1-datapack1/gencode.gtf.gz http://ftp.ebi.ac.uk/pub/databases/gencode/Gencode_mouse/release_M27/gencode.vM27.annotation.gtf.gz"
      ]
    },
    {
      "cell_type": "markdown",
      "metadata": {
        "id": "cEsuYjeoMuHc"
      },
      "source": [
        "다루기 쉽도록 Annotation 압축을 풉니다."
      ]
    },
    {
      "cell_type": "code",
      "execution_count": null,
      "metadata": {
        "id": "47_i6FbYMuHc"
      },
      "outputs": [],
      "source": [
        "!gunzip /content/drive/MyDrive/binfo1-datapack1/gencode.gtf.gz"
      ]
    },
    {
      "cell_type": "markdown",
      "metadata": {
        "id": "LRmsio_KMuHc"
      },
      "source": [
        "### 파일 체크섬 확인\n",
        "\n",
        "받은 데이터의 MD5 체크섬을 확인합니다. 한참 걸립니다. 각 파일들의 원래 체크섬은 다음과 같습니다. 한 번 비교해 보세요.\n",
        "\n",
        "```\n",
        "140aaf30bcb9276cc716f8699f04ddd6  CLIP-35L33G.bam\n",
        "f1b3336ed7e2f97d562dcc71641251bd  CLIP-35L33G.bam.bai\n",
        "328883a73d507eafbf5b60bd6b906201  RNA-control.bam\n",
        "02073818e2f398a73c3b76e5169de1ca  RNA-control.bam.bai\n",
        "b09550d09d6c2a4ce27f0226f426fdb1  RNA-siLin28a.bam\n",
        "fef112c727244060ea62d3f2564a07f6  RNA-siLin28a.bam.bai\n",
        "28bbd0c47d725669340c784f1b772c01  RNA-siLuc.bam\n",
        "43590fdc4d81905c0432e0d1cb8cfd5b  RNA-siLuc.bam.bai\n",
        "5c08a9297307bc83259e658c4474f0cc  RPF-siLin28a.bam\n",
        "a1bb3e29be412dfd7fd8d16b1b1acc4c  RPF-siLin28a.bam.bai\n",
        "f2eebf50943024d0116c9cd3e744c707  RPF-siLuc.bam\n",
        "dc24f69e8f571fc8be30f28ce5b84fcd  RPF-siLuc.bam.bai\n",
        "```"
      ]
    },
    {
      "cell_type": "code",
      "execution_count": null,
      "metadata": {
        "colab": {
          "base_uri": "https://localhost:8080/"
        },
        "id": "g8lC_YJRBCPf",
        "outputId": "5520b051-d2ad-4fd0-85a9-be13d72a680a"
      },
      "outputs": [
        {
          "name": "stdout",
          "output_type": "stream",
          "text": [
            "140aaf30bcb9276cc716f8699f04ddd6  /content/drive/MyDrive/binfo1-datapack1/CLIP-35L33G.bam\n",
            "f1b3336ed7e2f97d562dcc71641251bd  /content/drive/MyDrive/binfo1-datapack1/CLIP-35L33G.bam.bai\n",
            "md5sum: /content/drive/MyDrive/binfo1-datapack1/colab-biolab: Is a directory\n",
            "bcd484308fbc062cb65d3feb06ba7b5c  /content/drive/MyDrive/binfo1-datapack1/filtered-RPF-siLuc.bam\n",
            "d41d8cd98f00b204e9800998ecf8427e  /content/drive/MyDrive/binfo1-datapack1/fivepcounts-filtered-RPF-siLuc.txt\n",
            "d41d8cd98f00b204e9800998ecf8427e  /content/drive/MyDrive/binfo1-datapack1/fivepcounts-RPF-siLuc.bed\n",
            "ed47186ee44654792a8a130c695f3a22  /content/drive/MyDrive/binfo1-datapack1/gencode-exons-containing-startcodon.bed\n",
            "d54d428f5872030c4ffc43058709b896  /content/drive/MyDrive/binfo1-datapack1/gencode.gtf\n",
            "d41d8cd98f00b204e9800998ecf8427e  /content/drive/MyDrive/binfo1-datapack1/gencode.gtf.gz\n",
            "3469e3e3e018302c5488adc052fd1e21  /content/drive/MyDrive/binfo1-datapack1/gencode-plusexon.gtf\n",
            "b1c38579a9e8e0313c1508f02ce0afaf  /content/drive/MyDrive/binfo1-datapack1/gencode-start.gtf\n",
            "a8efae6097bf32dc360ceac947a35c7b  /content/drive/MyDrive/binfo1-datapack1/read-counts.txt\n",
            "f42506aaede28c2c66ff56e9cafed1eb  /content/drive/MyDrive/binfo1-datapack1/read-counts.txt.summary\n",
            "328883a73d507eafbf5b60bd6b906201  /content/drive/MyDrive/binfo1-datapack1/RNA-control.bam\n",
            "02073818e2f398a73c3b76e5169de1ca  /content/drive/MyDrive/binfo1-datapack1/RNA-control.bam.bai\n",
            "5d6901237d55a55f1a68faad5ba36c9e  /content/drive/MyDrive/binfo1-datapack1/RNA-siLin28a.bam\n",
            "fef112c727244060ea62d3f2564a07f6  /content/drive/MyDrive/binfo1-datapack1/RNA-siLin28a.bam.bai\n",
            "af974533d1c2674df86725c0a4725289  /content/drive/MyDrive/binfo1-datapack1/RNA-siLuc.bam\n",
            "43590fdc4d81905c0432e0d1cb8cfd5b  /content/drive/MyDrive/binfo1-datapack1/RNA-siLuc.bam.bai\n",
            "b62d2f78f26ca7dd5af2e56ad3706c33  /content/drive/MyDrive/binfo1-datapack1/RPF-siLin28a.bam\n",
            "a1bb3e29be412dfd7fd8d16b1b1acc4c  /content/drive/MyDrive/binfo1-datapack1/RPF-siLin28a.bam.bai\n",
            "b59ea33615e53aa17dcd5b2fbf940720  /content/drive/MyDrive/binfo1-datapack1/RPF-siLuc.bam\n",
            "dc24f69e8f571fc8be30f28ce5b84fcd  /content/drive/MyDrive/binfo1-datapack1/RPF-siLuc.bam.bai\n",
            "d41d8cd98f00b204e9800998ecf8427e  /content/drive/MyDrive/binfo1-datapack1/temp-core-002912-0242AC1C0002.sam\n"
          ]
        }
      ],
      "source": [
        "!md5sum /content/drive/MyDrive/binfo1-datapack1/*"
      ]
    },
    {
      "cell_type": "code",
      "execution_count": null,
      "metadata": {
        "colab": {
          "base_uri": "https://localhost:8080/"
        },
        "id": "PVXzIs5FE3Q4",
        "outputId": "940e235a-17a6-4206-c2b1-0dfc915e58ad"
      },
      "outputs": [
        {
          "name": "stdout",
          "output_type": "stream",
          "text": [
            "ls: cannot access 'drive/MyDrive/binfo*': No such file or directory\n"
          ]
        }
      ],
      "source": [
        "!ls -al drive/MyDrive/binfo*"
      ]
    },
    {
      "cell_type": "markdown",
      "metadata": {
        "id": "ecEA1PPQUlIK"
      },
      "source": [
        "실습에 필요한 프로그램들 몇 가지를 추가로 설치합니다."
      ]
    },
    {
      "cell_type": "code",
      "execution_count": null,
      "metadata": {
        "colab": {
          "base_uri": "https://localhost:8080/"
        },
        "id": "neteyWsWEKBy",
        "outputId": "2bfd2a62-c4f6-4231-f93f-a963a32c92c7"
      },
      "outputs": [
        {
          "name": "stdout",
          "output_type": "stream",
          "text": [
            "Collecting package metadata (current_repodata.json): - \b\b\\ \b\b| \b\b/ \b\b- \b\b\\ \b\b| \b\b/ \b\b- \b\b\\ \b\b| \b\b/ \b\b- \b\b\\ \b\b| \b\b/ \b\b- \b\b\\ \b\b| \b\b/ \b\b- \b\b\\ \b\b| \b\b/ \b\b- \b\b\\ \b\b| \b\b/ \b\b- \b\b\\ \b\b| \b\b/ \b\b- \b\b\\ \b\b| \b\b/ \b\b- \b\b\\ \b\b| \b\b/ \b\b- \b\b\\ \b\bdone\n",
            "Solving environment: / \b\b- \b\b\\ \b\b| \b\b/ \b\b- \b\b\\ \b\b| \b\b/ \b\b- \b\b\\ \b\b| \b\b/ \b\b- \b\b\\ \b\b| \b\b/ \b\b- \b\b\\ \b\b| \b\b/ \b\b- \b\b\\ \b\b| \b\b/ \b\b- \b\b\\ \b\b| \b\b/ \b\b- \b\b\\ \b\b| \b\b/ \b\b- \b\bdone\n",
            "\n",
            "\n",
            "==> WARNING: A newer version of conda exists. <==\n",
            "  current version: 4.11.0\n",
            "  latest version: 4.12.0\n",
            "\n",
            "Please update conda by running\n",
            "\n",
            "    $ conda update -n base -c defaults conda\n",
            "\n",
            "\n",
            "\n",
            "## Package Plan ##\n",
            "\n",
            "  environment location: /root/conda/envs/lab\n",
            "\n",
            "  added / updated specs:\n",
            "    - bedtools\n",
            "    - bioawk\n",
            "\n",
            "\n",
            "The following NEW packages will be INSTALLED:\n",
            "\n",
            "  bioawk             bioconda/linux-64::bioawk-1.0-h7132678_7\n",
            "\n",
            "\n",
            "Preparing transaction: | \b\bdone\n",
            "Verifying transaction: - \b\bdone\n",
            "Executing transaction: | \b\bdone\n"
          ]
        }
      ],
      "source": [
        "!conda install -y bedtools bioawk"
      ]
    },
    {
      "cell_type": "markdown",
      "metadata": {
        "id": "Oe_54MZrEi4y"
      },
      "source": [
        "## Mission 2\n",
        "\n",
        "이번 미션에서는 start codon 주변에서 ribosome-protected fragment의 분포를 한 번 살펴보겠습니다. 보통은 RPF의 5'-end 분포가 start codon 앞 15nt 정도에서부터 본격적으로 많이 나오고, 거기서부터 CDS를 걸쳐서 3nt 주기로 올록볼록한 패턴이 나타납니다.\n",
        "\n",
        "이 그림을 제대로 그리려면 genome coordinate를 start codon을 기준으로 변환해서 작업해야 하지만, 이번 미션에서는 난이도를 적절히 내리기 위해서 start codon이 포함된 exon에 존재하는 5' end만 추려서 작업하도록 합시다. (여유가 좀 있어서 난이도를 적당히 올리고 싶은 분들은 negative strand를 포함할 수도 있고, start codon과 다른 exon에 있는 경우를 포함할 수도 있습니다. 또한 APPRIS 등을 기반으로 해서 transcript 중에 가장 )"
      ]
    },
    {
      "cell_type": "code",
      "execution_count": 6,
      "metadata": {
        "colab": {
          "base_uri": "https://localhost:8080/"
        },
        "id": "IANz6DmLUkA6",
        "outputId": "7b3d3cd7-3477-4e20-8cfe-827e36d7ed62"
      },
      "outputs": [
        {
          "output_type": "stream",
          "name": "stdout",
          "text": [
            "/content/drive/MyDrive/binfo1-datapack1\n"
          ]
        }
      ],
      "source": [
        "%cd /content/drive/MyDrive/binfo1-datapack1/"
      ]
    },
    {
      "cell_type": "markdown",
      "metadata": {
        "id": "68uh7WVkUjhr"
      },
      "source": [
        "우선 annotation에서 start codon이 포함된 exon만 추립니다. Gene 한 개에 isoform이 여러 개 있는 경우 모두 쓰면 read가 너무 부풀려질 수 있기 때문에 우선 transcript support level이 1인 것만 추려서 사용합니다. 여전히 TSL 1만 쓰더라도 부풀려질 가능성은 있기 때문에 제대로 하자면 APPRIS나 RNA-seq 데이터 기준으로 하나만 선정하는 것이 좋습니다만, 일단 여기서는 간단히..\n",
        "\n",
        "그리고, - strand가 들어가면 좀 계산이 복잡해지니까 또 간단하게 하기 위해서 + strand만 고릅니다. 이번엔 일단 무조건 간단하게 해 봅시다~"
      ]
    },
    {
      "cell_type": "code",
      "execution_count": null,
      "metadata": {
        "colab": {
          "base_uri": "https://localhost:8080/"
        },
        "id": "vvFgM8hJUzDx",
        "outputId": "0f9fe936-e24d-46db-e8f2-b9665a4eb73b"
      },
      "outputs": [
        {
          "name": "stdout",
          "output_type": "stream",
          "text": [
            "chr1\tHAVANA\tstart_codon\t4878137\t4878139\t.\t+\t0\tENSMUST00000134384.8\n",
            "chr1\tHAVANA\tstart_codon\t4878137\t4878139\t.\t+\t0\tENSMUST00000027036.11\n",
            "chr1\tHAVANA\tstart_codon\t4878137\t4878139\t.\t+\t0\tENSMUST00000150971.8\n",
            "chr1\tHAVANA\tstart_codon\t4928137\t4928139\t.\t+\t0\tENSMUST00000081551.14\n",
            "chr1\tHAVANA\tstart_codon\t5154674\t5154676\t.\t+\t0\tENSMUST00000044369.13\n",
            "chr1\tHAVANA\tstart_codon\t5659272\t5659274\t.\t+\t0\tENSMUST00000160777.8\n",
            "chr1\tHAVANA\tstart_codon\t5659272\t5659274\t.\t+\t0\tENSMUST00000027038.11\n",
            "chr1\tHAVANA\tstart_codon\t6300227\t6300229\t.\t+\t0\tENSMUST00000027040.13\n",
            "chr1\tHAVANA\tstart_codon\t6429555\t6429557\t.\t+\t0\tENSMUST00000133144.4\n",
            "chr1\tHAVANA\tstart_codon\t6839122\t6839124\t.\t+\t0\tENSMUST00000140079.8\n"
          ]
        }
      ],
      "source": [
        "!grep '\tstart_codon\t.*\t+\t.*transcript_support_level \"1\"' gencode.gtf | \\\n",
        " sed -e 's/\t[^\t]*transcript_id \"\\([^\"]*\\)\".*$/\t\\1/g' > gencode-start.gtf\n",
        "!head gencode-start.gtf"
      ]
    },
    {
      "cell_type": "markdown",
      "metadata": {
        "id": "iWvIeTYOWsR6"
      },
      "source": [
        "start codon가 들어가 있는 exon들을 고르기 위해서 미리 + strand에 있는 exon를 추립니다.. start codon 쪽에서 TSL 기준으로 골랐기 때문에 여기서는 고르지 않아도 됩니다. 물론 좀 느려지기는 하지만..."
      ]
    },
    {
      "cell_type": "code",
      "execution_count": null,
      "metadata": {
        "colab": {
          "base_uri": "https://localhost:8080/"
        },
        "id": "yCqK2wyYWitn",
        "outputId": "c88c6ee3-29ee-4d9d-c622-3fa34b69b461"
      },
      "outputs": [
        {
          "name": "stdout",
          "output_type": "stream",
          "text": [
            "chr1\tHAVANA\texon\t3143476\t3144545\t.\t+\t.\tENSMUST00000193812.2\n",
            "chr1\tENSEMBL\texon\t3172239\t3172348\t.\t+\t.\tENSMUST00000082908.3\n",
            "chr1\tHAVANA\texon\t3322980\t3323459\t.\t+\t.\tENSMUST00000192857.2\n",
            "chr1\tHAVANA\texon\t3536810\t3536910\t.\t+\t.\tENSMUST00000161581.2\n",
            "chr1\tHAVANA\texon\t3583628\t3583776\t.\t+\t.\tENSMUST00000161581.2\n",
            "chr1\tHAVANA\texon\t3602018\t3602943\t.\t+\t.\tENSMUST00000192183.2\n",
            "chr1\tHAVANA\texon\t3750378\t3752011\t.\t+\t.\tENSMUST00000193244.2\n",
            "chr1\tHAVANA\texon\t3822233\t3824583\t.\t+\t.\tENSMUST00000194454.2\n",
            "chr1\tHAVANA\texon\t4566774\t4569601\t.\t+\t.\tENSMUST00000193450.2\n",
            "chr1\tHAVANA\texon\t4567697\t4567877\t.\t+\t.\tENSMUST00000194935.2\n"
          ]
        }
      ],
      "source": [
        "!grep '\texon\t.*\t+\t' gencode.gtf | \\\n",
        " sed -e 's/\t[^\t]*transcript_id \"\\([^\"]*\\)\".*$/\t\\1/g' > gencode-plusexon.gtf\n",
        "!head gencode-plusexon.gtf"
      ]
    },
    {
      "cell_type": "markdown",
      "metadata": {
        "id": "suULe5k6Yelf"
      },
      "source": [
        "그 다음엔 exon 리스트와 start codon 리스트를 겹치고, transcript가 같은 것만 살려둡니다. 기왕 좀 다루기 쉽도록 출력은 bed로 하면서 좌표계를 바꿉니다. 결과는 bedtools에서 빠르게 다룰 수 있게 sort해 둡니다."
      ]
    },
    {
      "cell_type": "code",
      "execution_count": null,
      "metadata": {
        "colab": {
          "base_uri": "https://localhost:8080/"
        },
        "id": "Zsv2_w5OXU9c",
        "outputId": "a847e8d7-2e3f-401d-f5b7-cfdf7cfd17ff"
      },
      "outputs": [
        {
          "name": "stdout",
          "output_type": "stream",
          "text": [
            "chr1\t4878010\t4878205\tENSMUST00000134384.8\t4878136\t+\n",
            "chr1\t4878045\t4878205\tENSMUST00000027036.11\t4878136\t+\n",
            "chr1\t4878052\t4878205\tENSMUST00000150971.8\t4878136\t+\n",
            "chr1\t4928036\t4928199\tENSMUST00000081551.14\t4928136\t+\n",
            "chr1\t5154639\t5154786\tENSMUST00000044369.13\t5154673\t+\n",
            "chr1\t5659227\t5659528\tENSMUST00000027038.11\t5659271\t+\n",
            "chr1\t5659257\t5659528\tENSMUST00000160777.8\t5659271\t+\n",
            "chr1\t6300182\t6300297\tENSMUST00000027040.13\t6300226\t+\n",
            "chr1\t6429441\t6429738\tENSMUST00000133144.4\t6429554\t+\n",
            "chr1\t6839121\t6839176\tENSMUST00000043578.13\t6839121\t+\n",
            "chrY\t80939672\t80939804\tENSMUST00000185340.2\t80939686\t+\n",
            "chrY\t81470683\t81470815\tENSMUST00000187135.2\t81470697\t+\n",
            "chrY\t82237903\t82238035\tENSMUST00000185636.2\t82237917\t+\n",
            "chrY\t83043623\t83043755\tENSMUST00000187165.2\t83043637\t+\n",
            "chrY\t84109956\t84110088\tENSMUST00000185776.7\t84109970\t+\n",
            "chrY\t84759361\t84759493\tENSMUST00000186110.2\t84759375\t+\n",
            "chrY\t86074448\t86074580\tENSMUST00000188754.2\t86074462\t+\n",
            "chrY\t87129500\t87129632\tENSMUST00000189543.7\t87129514\t+\n",
            "chrY\t87563647\t87563779\tENSMUST00000186493.2\t87563661\t+\n",
            "chrY\t88065992\t88066124\tENSMUST00000187146.2\t88066006\t+\n"
          ]
        }
      ],
      "source": [
        "!bedtools intersect -a gencode-start.gtf -b gencode-plusexon.gtf -wa -wb | \\\n",
        " awk -F'\t' -v OFS='\t' '$9 == $18 { print $10, $13-1, $14, $18, $4-1, $16; }' | \\\n",
        " sort -k1,1 -k2,3n -k4,4 > gencode-exons-containing-startcodon.bed\n",
        "!head gencode-exons-containing-startcodon.bed; tail gencode-exons-containing-startcodon.bed"
      ]
    },
    {
      "cell_type": "markdown",
      "metadata": {
        "id": "KvPNCpbtaYnC"
      },
      "source": [
        "컬럼 4번에 transcript id, 5번에 start codon 위치를 넣었는데, start codon이 같은 것들이 여러개 눈에 띕니다. 아주 찝찝하지만, 우선 이번은 간단하게 할 것이기 때문에 눈을 질끈 감고 넘어가 봅시다.\n",
        "\n",
        "이제 alignment를 준비합니다. + strand alignment에서 read length가 짧은 것도 미리 필터링 합니다. RPF는 보통 25nt 이상이기 때문에 그 이하는 거의 확실히 rRNA, tRNA 등에서 오염된 것들입니다. SAM 파일 전체를 필터링해서 다시 인코딩하기 때문에 시간이 좀 걸립니다."
      ]
    },
    {
      "cell_type": "markdown",
      "metadata": {
        "id": "f8hBfrcrQ_20"
      },
      "source": [
        "tail problem.bam | hexdump -C"
      ]
    },
    {
      "cell_type": "code",
      "execution_count": null,
      "metadata": {
        "colab": {
          "base_uri": "https://localhost:8080/"
        },
        "id": "ZZaOeHo1alCB",
        "outputId": "da93d0ce-9329-44be-8735-68e9b8436638"
      },
      "outputs": [
        {
          "name": "stdout",
          "output_type": "stream",
          "text": [
            "[W::bam_hdr_read] EOF marker is absent. The input is probably truncated\n",
            "[W::bam_hdr_read] EOF marker is absent. The input is probably truncated\n",
            "[E::bgzf_read_block] Failed to read BGZF block data at offset 35647810 expected 12249 bytes; hread returned 3756\n",
            "[E::bgzf_read] Read block operation failed with error 4 after 0 of 4 bytes\n",
            "samtools view: error reading file \"RPF-siLuc.bam\": Invalid argument\n",
            "samtools view: error closing \"RPF-siLuc.bam\": -1\n"
          ]
        }
      ],
      "source": [
        "!(samtools view -H RPF-siLuc.bam; \\\n",
        "  samtools view -F20 RPF-siLuc.bam | \\\n",
        "  bioawk -c sam '{ if (length($seq) >= 25) print $0; }') | \\\n",
        " samtools view -b -o filtered-RPF-siLuc.bam"
      ]
    },
    {
      "cell_type": "markdown",
      "metadata": {
        "id": "U1JDNb8ndTdk"
      },
      "source": [
        "큰 일을 했으니 용량을 한 번 봅니다."
      ]
    },
    {
      "cell_type": "code",
      "execution_count": null,
      "metadata": {
        "colab": {
          "base_uri": "https://localhost:8080/"
        },
        "id": "5OrnDxegFAip",
        "outputId": "0470d4d8-7358-4c15-ccf7-eaf5778a4f27"
      },
      "outputs": [
        {
          "name": "stdout",
          "output_type": "stream",
          "text": [
            "-rw------- 1 root root     1229 May 10 17:56 filtered-RPF-siLuc.bam\n",
            "-rw------- 1 root root 35651584 May  1 10:13 RPF-siLuc.bam\n"
          ]
        }
      ],
      "source": [
        "!ls -al *RPF-siLuc.bam"
      ]
    },
    {
      "cell_type": "markdown",
      "metadata": {
        "id": "pr9zpKFmdi2e"
      },
      "source": [
        "자 이제 read의 5' end 위치를 셉니다. bedtools의 `genomecov`를 쓰면 아주 편리합니다."
      ]
    },
    {
      "cell_type": "code",
      "execution_count": null,
      "metadata": {
        "colab": {
          "base_uri": "https://localhost:8080/"
        },
        "id": "IZjHau7zftoU",
        "outputId": "789569e5-36f6-4503-bee8-40805db7a0cc"
      },
      "outputs": [
        {
          "name": "stdout",
          "output_type": "stream",
          "text": [
            "tcmalloc: large alloc 1561239552 bytes == 0x55c5bc798000 @  0x7f0e4b5e9887 0x55c5baf28a26 0x55c5baf2aa79 0x55c5baf2c030 0x55c5baf2cb1e 0x55c5baf25132 0x55c5baedc68d 0x7f0e4aa7cc87 0x55c5baee3ee9\n",
            "tcmalloc: large alloc 1454047232 bytes == 0x55c5bc798000 @  0x7f0e4b5e9887 0x55c5baf28a26 0x55c5baf2aa79 0x55c5baf2c030 0x55c5baf2cb1e 0x55c5baf25132 0x55c5baedc68d 0x7f0e4aa7cc87 0x55c5baee3ee9\n"
          ]
        }
      ],
      "source": [
        "!bedtools genomecov -ibam filtered-RPF-siLuc.bam -bg -5 > fivepcounts-RPF-siLuc.bed\n",
        "!head fivepcounts-RPF-siLuc.bed"
      ]
    },
    {
      "cell_type": "markdown",
      "metadata": {
        "id": "y_AHnHnZmYJu"
      },
      "source": [
        "그렇게 match 된 것들 중에 앞에서 찾은 start codon을 포함한 exon과 겹치는 것만 골라냅니다."
      ]
    },
    {
      "cell_type": "code",
      "execution_count": 6,
      "metadata": {
        "id": "k1cOiX2Hftlx",
        "colab": {
          "base_uri": "https://localhost:8080/"
        },
        "outputId": "88eda51a-746e-44b5-f69e-ac99ea55f3de"
      },
      "outputs": [
        {
          "output_type": "stream",
          "name": "stdout",
          "text": [
            "chr1\t4878048\t4878049\t1\tchr1\t4878010\t4878205\tENSMUST00000134384.8\t4878136\t+\n",
            "chr1\t4878048\t4878049\t1\tchr1\t4878045\t4878205\tENSMUST00000027036.11\t4878136\t+\n",
            "chr1\t4878077\t4878078\t1\tchr1\t4878010\t4878205\tENSMUST00000134384.8\t4878136\t+\n",
            "chr1\t4878077\t4878078\t1\tchr1\t4878045\t4878205\tENSMUST00000027036.11\t4878136\t+\n",
            "chr1\t4878077\t4878078\t1\tchr1\t4878052\t4878205\tENSMUST00000150971.8\t4878136\t+\n",
            "chr1\t4878101\t4878102\t4\tchr1\t4878010\t4878205\tENSMUST00000134384.8\t4878136\t+\n",
            "chr1\t4878101\t4878102\t4\tchr1\t4878045\t4878205\tENSMUST00000027036.11\t4878136\t+\n",
            "chr1\t4878101\t4878102\t4\tchr1\t4878052\t4878205\tENSMUST00000150971.8\t4878136\t+\n",
            "chr1\t4878103\t4878104\t1\tchr1\t4878010\t4878205\tENSMUST00000134384.8\t4878136\t+\n",
            "chr1\t4878103\t4878104\t1\tchr1\t4878045\t4878205\tENSMUST00000027036.11\t4878136\t+\n"
          ]
        }
      ],
      "source": [
        "!bedtools intersect -a fivepcounts-RPF-siLuc.bed -b gencode-exons-containing-startcodon.bed \\\n",
        " -wa -wb -nonamecheck > fivepcounts-filtered-RPF-siLuc.txt\n",
        "!head fivepcounts-filtered-RPF-siLuc.txt"
      ]
    },
    {
      "cell_type": "markdown",
      "metadata": {
        "id": "0OcjYZ9bnL_6"
      },
      "source": [
        "모든 준비가 끝났습니다. 이제 Figure S5A 도전해 보세요!\n",
        "\n",
        "* stop codon은 빼고 start codon 만입니다.\n",
        "* 논문에서는 처리가 어려운 부분까지 모두 포함됐고, read를 중첩해서 세지 않았기 때문에, 여기서 세는 것과는 수치는 다를 수 있습니다.\n",
        "* `pandas`로 한꺼번에 데이터를 모두 불러들이면 메모리가 부족할 수도 있습니다. 그런 경우에는 chunk를 쓰거나, 줄 단위로 처리해 보세요."
      ]
    },
    {
      "cell_type": "code",
      "execution_count": 7,
      "metadata": {
        "id": "aPPW73t4X3pp"
      },
      "outputs": [],
      "source": [
        "import pandas as pd"
      ]
    },
    {
      "cell_type": "code",
      "source": [
        "ls"
      ],
      "metadata": {
        "colab": {
          "base_uri": "https://localhost:8080/"
        },
        "id": "SCjDFBZvvGjg",
        "outputId": "b850d720-32ac-4ac1-df72-8e8b69fc5606"
      },
      "execution_count": 19,
      "outputs": [
        {
          "output_type": "stream",
          "name": "stdout",
          "text": [
            "CLIP-35L33G.bam                          read-counts.txt.summary\n",
            "CLIP-35L33G.bam.bai                      RNA-control.bam\n",
            "\u001b[0m\u001b[01;34mcolab-biolab\u001b[0m/                            RNA-control.bam.bai\n",
            "filtered-RPF-siLuc.bam                   RNA-siLin28a.bam\n",
            "fivepcounts-filtered-RPF-siLuc.txt       RNA-siLin28a.bam.bai\n",
            "fivepcounts-RPF-siLuc.bed                RNA-siLuc.bam\n",
            "gencode-exons-containing-startcodon.bed  RNA-siLuc.bam.bai\n",
            "gencode.gtf                              RPF-siLin28a.bam\n",
            "gencode.gtf.gz                           RPF-siLin28a.bam.bai\n",
            "gencode-plusexon.gtf                     RPF-siLuc.bam\n",
            "gencode-start.gtf                        RPF-siLuc.bam.bai\n",
            "read-counts.txt                          temp-core-002912-0242AC1C0002.sam\n"
          ]
        }
      ]
    },
    {
      "cell_type": "code",
      "source": [
        "#pandas로 파일 열기\n",
        "\n",
        "filtered = pd.read_table('fivepcounts-filtered-RPF-siLuc.txt', sep = '\\t')\n",
        "filtered"
      ],
      "metadata": {
        "colab": {
          "base_uri": "https://localhost:8080/",
          "height": 424
        },
        "id": "1Fpzbj1UuGZI",
        "outputId": "63f00912-0796-4a7d-acf6-da2058c84197"
      },
      "execution_count": 8,
      "outputs": [
        {
          "output_type": "execute_result",
          "data": {
            "text/plain": [
              "       chr1    4878048    4878049    1 chr1.1    4878010    4878205  \\\n",
              "0      chr1    4878048    4878049    1   chr1    4878045    4878205   \n",
              "1      chr1    4878077    4878078    1   chr1    4878010    4878205   \n",
              "2      chr1    4878077    4878078    1   chr1    4878045    4878205   \n",
              "3      chr1    4878077    4878078    1   chr1    4878052    4878205   \n",
              "4      chr1    4878101    4878102    4   chr1    4878010    4878205   \n",
              "...     ...        ...        ...  ...    ...        ...        ...   \n",
              "11978  chr1  109922092  109922093  327   chr1  109921711  109922119   \n",
              "11979  chr1  109922092  109922093  327   chr1  109921715  109923053   \n",
              "11980  chr1  109922092  109922093  327   chr1  109921715  109922119   \n",
              "11981  chr1  109922092  109922093  327   chr1  109921715  109923685   \n",
              "11982  chr1  109922092  109922093  327   chr1  109921715  109922119   \n",
              "\n",
              "        ENSMUST00000134384.8    4878136  +  \n",
              "0      ENSMUST00000027036.11    4878136  +  \n",
              "1       ENSMUST00000134384.8    4878136  +  \n",
              "2      ENSMUST00000027036.11    4878136  +  \n",
              "3       ENSMUST00000150971.8    4878136  +  \n",
              "4       ENSMUST00000134384.8    4878136  +  \n",
              "...                      ...        ... ..  \n",
              "11978  ENSMUST00000027542.13  109921909  +  \n",
              "11979   ENSMUST00000129923.2  109921909  +  \n",
              "11980   ENSMUST00000131464.8  109921909  +  \n",
              "11981   ENSMUST00000137092.8  109921909  +  \n",
              "11982   ENSMUST00000172005.8  109921909  +  \n",
              "\n",
              "[11983 rows x 10 columns]"
            ],
            "text/html": [
              "\n",
              "  <div id=\"df-e6d3ebb0-9a7b-4ccf-91fe-8054614d2d40\">\n",
              "    <div class=\"colab-df-container\">\n",
              "      <div>\n",
              "<style scoped>\n",
              "    .dataframe tbody tr th:only-of-type {\n",
              "        vertical-align: middle;\n",
              "    }\n",
              "\n",
              "    .dataframe tbody tr th {\n",
              "        vertical-align: top;\n",
              "    }\n",
              "\n",
              "    .dataframe thead th {\n",
              "        text-align: right;\n",
              "    }\n",
              "</style>\n",
              "<table border=\"1\" class=\"dataframe\">\n",
              "  <thead>\n",
              "    <tr style=\"text-align: right;\">\n",
              "      <th></th>\n",
              "      <th>chr1</th>\n",
              "      <th>4878048</th>\n",
              "      <th>4878049</th>\n",
              "      <th>1</th>\n",
              "      <th>chr1.1</th>\n",
              "      <th>4878010</th>\n",
              "      <th>4878205</th>\n",
              "      <th>ENSMUST00000134384.8</th>\n",
              "      <th>4878136</th>\n",
              "      <th>+</th>\n",
              "    </tr>\n",
              "  </thead>\n",
              "  <tbody>\n",
              "    <tr>\n",
              "      <th>0</th>\n",
              "      <td>chr1</td>\n",
              "      <td>4878048</td>\n",
              "      <td>4878049</td>\n",
              "      <td>1</td>\n",
              "      <td>chr1</td>\n",
              "      <td>4878045</td>\n",
              "      <td>4878205</td>\n",
              "      <td>ENSMUST00000027036.11</td>\n",
              "      <td>4878136</td>\n",
              "      <td>+</td>\n",
              "    </tr>\n",
              "    <tr>\n",
              "      <th>1</th>\n",
              "      <td>chr1</td>\n",
              "      <td>4878077</td>\n",
              "      <td>4878078</td>\n",
              "      <td>1</td>\n",
              "      <td>chr1</td>\n",
              "      <td>4878010</td>\n",
              "      <td>4878205</td>\n",
              "      <td>ENSMUST00000134384.8</td>\n",
              "      <td>4878136</td>\n",
              "      <td>+</td>\n",
              "    </tr>\n",
              "    <tr>\n",
              "      <th>2</th>\n",
              "      <td>chr1</td>\n",
              "      <td>4878077</td>\n",
              "      <td>4878078</td>\n",
              "      <td>1</td>\n",
              "      <td>chr1</td>\n",
              "      <td>4878045</td>\n",
              "      <td>4878205</td>\n",
              "      <td>ENSMUST00000027036.11</td>\n",
              "      <td>4878136</td>\n",
              "      <td>+</td>\n",
              "    </tr>\n",
              "    <tr>\n",
              "      <th>3</th>\n",
              "      <td>chr1</td>\n",
              "      <td>4878077</td>\n",
              "      <td>4878078</td>\n",
              "      <td>1</td>\n",
              "      <td>chr1</td>\n",
              "      <td>4878052</td>\n",
              "      <td>4878205</td>\n",
              "      <td>ENSMUST00000150971.8</td>\n",
              "      <td>4878136</td>\n",
              "      <td>+</td>\n",
              "    </tr>\n",
              "    <tr>\n",
              "      <th>4</th>\n",
              "      <td>chr1</td>\n",
              "      <td>4878101</td>\n",
              "      <td>4878102</td>\n",
              "      <td>4</td>\n",
              "      <td>chr1</td>\n",
              "      <td>4878010</td>\n",
              "      <td>4878205</td>\n",
              "      <td>ENSMUST00000134384.8</td>\n",
              "      <td>4878136</td>\n",
              "      <td>+</td>\n",
              "    </tr>\n",
              "    <tr>\n",
              "      <th>...</th>\n",
              "      <td>...</td>\n",
              "      <td>...</td>\n",
              "      <td>...</td>\n",
              "      <td>...</td>\n",
              "      <td>...</td>\n",
              "      <td>...</td>\n",
              "      <td>...</td>\n",
              "      <td>...</td>\n",
              "      <td>...</td>\n",
              "      <td>...</td>\n",
              "    </tr>\n",
              "    <tr>\n",
              "      <th>11978</th>\n",
              "      <td>chr1</td>\n",
              "      <td>109922092</td>\n",
              "      <td>109922093</td>\n",
              "      <td>327</td>\n",
              "      <td>chr1</td>\n",
              "      <td>109921711</td>\n",
              "      <td>109922119</td>\n",
              "      <td>ENSMUST00000027542.13</td>\n",
              "      <td>109921909</td>\n",
              "      <td>+</td>\n",
              "    </tr>\n",
              "    <tr>\n",
              "      <th>11979</th>\n",
              "      <td>chr1</td>\n",
              "      <td>109922092</td>\n",
              "      <td>109922093</td>\n",
              "      <td>327</td>\n",
              "      <td>chr1</td>\n",
              "      <td>109921715</td>\n",
              "      <td>109923053</td>\n",
              "      <td>ENSMUST00000129923.2</td>\n",
              "      <td>109921909</td>\n",
              "      <td>+</td>\n",
              "    </tr>\n",
              "    <tr>\n",
              "      <th>11980</th>\n",
              "      <td>chr1</td>\n",
              "      <td>109922092</td>\n",
              "      <td>109922093</td>\n",
              "      <td>327</td>\n",
              "      <td>chr1</td>\n",
              "      <td>109921715</td>\n",
              "      <td>109922119</td>\n",
              "      <td>ENSMUST00000131464.8</td>\n",
              "      <td>109921909</td>\n",
              "      <td>+</td>\n",
              "    </tr>\n",
              "    <tr>\n",
              "      <th>11981</th>\n",
              "      <td>chr1</td>\n",
              "      <td>109922092</td>\n",
              "      <td>109922093</td>\n",
              "      <td>327</td>\n",
              "      <td>chr1</td>\n",
              "      <td>109921715</td>\n",
              "      <td>109923685</td>\n",
              "      <td>ENSMUST00000137092.8</td>\n",
              "      <td>109921909</td>\n",
              "      <td>+</td>\n",
              "    </tr>\n",
              "    <tr>\n",
              "      <th>11982</th>\n",
              "      <td>chr1</td>\n",
              "      <td>109922092</td>\n",
              "      <td>109922093</td>\n",
              "      <td>327</td>\n",
              "      <td>chr1</td>\n",
              "      <td>109921715</td>\n",
              "      <td>109922119</td>\n",
              "      <td>ENSMUST00000172005.8</td>\n",
              "      <td>109921909</td>\n",
              "      <td>+</td>\n",
              "    </tr>\n",
              "  </tbody>\n",
              "</table>\n",
              "<p>11983 rows × 10 columns</p>\n",
              "</div>\n",
              "      <button class=\"colab-df-convert\" onclick=\"convertToInteractive('df-e6d3ebb0-9a7b-4ccf-91fe-8054614d2d40')\"\n",
              "              title=\"Convert this dataframe to an interactive table.\"\n",
              "              style=\"display:none;\">\n",
              "        \n",
              "  <svg xmlns=\"http://www.w3.org/2000/svg\" height=\"24px\"viewBox=\"0 0 24 24\"\n",
              "       width=\"24px\">\n",
              "    <path d=\"M0 0h24v24H0V0z\" fill=\"none\"/>\n",
              "    <path d=\"M18.56 5.44l.94 2.06.94-2.06 2.06-.94-2.06-.94-.94-2.06-.94 2.06-2.06.94zm-11 1L8.5 8.5l.94-2.06 2.06-.94-2.06-.94L8.5 2.5l-.94 2.06-2.06.94zm10 10l.94 2.06.94-2.06 2.06-.94-2.06-.94-.94-2.06-.94 2.06-2.06.94z\"/><path d=\"M17.41 7.96l-1.37-1.37c-.4-.4-.92-.59-1.43-.59-.52 0-1.04.2-1.43.59L10.3 9.45l-7.72 7.72c-.78.78-.78 2.05 0 2.83L4 21.41c.39.39.9.59 1.41.59.51 0 1.02-.2 1.41-.59l7.78-7.78 2.81-2.81c.8-.78.8-2.07 0-2.86zM5.41 20L4 18.59l7.72-7.72 1.47 1.35L5.41 20z\"/>\n",
              "  </svg>\n",
              "      </button>\n",
              "      \n",
              "  <style>\n",
              "    .colab-df-container {\n",
              "      display:flex;\n",
              "      flex-wrap:wrap;\n",
              "      gap: 12px;\n",
              "    }\n",
              "\n",
              "    .colab-df-convert {\n",
              "      background-color: #E8F0FE;\n",
              "      border: none;\n",
              "      border-radius: 50%;\n",
              "      cursor: pointer;\n",
              "      display: none;\n",
              "      fill: #1967D2;\n",
              "      height: 32px;\n",
              "      padding: 0 0 0 0;\n",
              "      width: 32px;\n",
              "    }\n",
              "\n",
              "    .colab-df-convert:hover {\n",
              "      background-color: #E2EBFA;\n",
              "      box-shadow: 0px 1px 2px rgba(60, 64, 67, 0.3), 0px 1px 3px 1px rgba(60, 64, 67, 0.15);\n",
              "      fill: #174EA6;\n",
              "    }\n",
              "\n",
              "    [theme=dark] .colab-df-convert {\n",
              "      background-color: #3B4455;\n",
              "      fill: #D2E3FC;\n",
              "    }\n",
              "\n",
              "    [theme=dark] .colab-df-convert:hover {\n",
              "      background-color: #434B5C;\n",
              "      box-shadow: 0px 1px 3px 1px rgba(0, 0, 0, 0.15);\n",
              "      filter: drop-shadow(0px 1px 2px rgba(0, 0, 0, 0.3));\n",
              "      fill: #FFFFFF;\n",
              "    }\n",
              "  </style>\n",
              "\n",
              "      <script>\n",
              "        const buttonEl =\n",
              "          document.querySelector('#df-e6d3ebb0-9a7b-4ccf-91fe-8054614d2d40 button.colab-df-convert');\n",
              "        buttonEl.style.display =\n",
              "          google.colab.kernel.accessAllowed ? 'block' : 'none';\n",
              "\n",
              "        async function convertToInteractive(key) {\n",
              "          const element = document.querySelector('#df-e6d3ebb0-9a7b-4ccf-91fe-8054614d2d40');\n",
              "          const dataTable =\n",
              "            await google.colab.kernel.invokeFunction('convertToInteractive',\n",
              "                                                     [key], {});\n",
              "          if (!dataTable) return;\n",
              "\n",
              "          const docLinkHtml = 'Like what you see? Visit the ' +\n",
              "            '<a target=\"_blank\" href=https://colab.research.google.com/notebooks/data_table.ipynb>data table notebook</a>'\n",
              "            + ' to learn more about interactive tables.';\n",
              "          element.innerHTML = '';\n",
              "          dataTable['output_type'] = 'display_data';\n",
              "          await google.colab.output.renderOutput(dataTable, element);\n",
              "          const docLink = document.createElement('div');\n",
              "          docLink.innerHTML = docLinkHtml;\n",
              "          element.appendChild(docLink);\n",
              "        }\n",
              "      </script>\n",
              "    </div>\n",
              "  </div>\n",
              "  "
            ]
          },
          "metadata": {},
          "execution_count": 8
        }
      ]
    },
    {
      "cell_type": "code",
      "source": [
        "del filtered[\"4878205\"]\n",
        "filtered\n"
      ],
      "metadata": {
        "colab": {
          "base_uri": "https://localhost:8080/",
          "height": 424
        },
        "id": "XEoMr1JpxUZo",
        "outputId": "b34adb57-9a06-4c25-ec95-24b7bab11bab"
      },
      "execution_count": 9,
      "outputs": [
        {
          "output_type": "execute_result",
          "data": {
            "text/plain": [
              "       chr1    4878048    4878049    1 chr1.1    4878010  \\\n",
              "0      chr1    4878048    4878049    1   chr1    4878045   \n",
              "1      chr1    4878077    4878078    1   chr1    4878010   \n",
              "2      chr1    4878077    4878078    1   chr1    4878045   \n",
              "3      chr1    4878077    4878078    1   chr1    4878052   \n",
              "4      chr1    4878101    4878102    4   chr1    4878010   \n",
              "...     ...        ...        ...  ...    ...        ...   \n",
              "11978  chr1  109922092  109922093  327   chr1  109921711   \n",
              "11979  chr1  109922092  109922093  327   chr1  109921715   \n",
              "11980  chr1  109922092  109922093  327   chr1  109921715   \n",
              "11981  chr1  109922092  109922093  327   chr1  109921715   \n",
              "11982  chr1  109922092  109922093  327   chr1  109921715   \n",
              "\n",
              "        ENSMUST00000134384.8    4878136  +  \n",
              "0      ENSMUST00000027036.11    4878136  +  \n",
              "1       ENSMUST00000134384.8    4878136  +  \n",
              "2      ENSMUST00000027036.11    4878136  +  \n",
              "3       ENSMUST00000150971.8    4878136  +  \n",
              "4       ENSMUST00000134384.8    4878136  +  \n",
              "...                      ...        ... ..  \n",
              "11978  ENSMUST00000027542.13  109921909  +  \n",
              "11979   ENSMUST00000129923.2  109921909  +  \n",
              "11980   ENSMUST00000131464.8  109921909  +  \n",
              "11981   ENSMUST00000137092.8  109921909  +  \n",
              "11982   ENSMUST00000172005.8  109921909  +  \n",
              "\n",
              "[11983 rows x 9 columns]"
            ],
            "text/html": [
              "\n",
              "  <div id=\"df-efc151a5-8ddb-4c97-ad62-05593e1ddc54\">\n",
              "    <div class=\"colab-df-container\">\n",
              "      <div>\n",
              "<style scoped>\n",
              "    .dataframe tbody tr th:only-of-type {\n",
              "        vertical-align: middle;\n",
              "    }\n",
              "\n",
              "    .dataframe tbody tr th {\n",
              "        vertical-align: top;\n",
              "    }\n",
              "\n",
              "    .dataframe thead th {\n",
              "        text-align: right;\n",
              "    }\n",
              "</style>\n",
              "<table border=\"1\" class=\"dataframe\">\n",
              "  <thead>\n",
              "    <tr style=\"text-align: right;\">\n",
              "      <th></th>\n",
              "      <th>chr1</th>\n",
              "      <th>4878048</th>\n",
              "      <th>4878049</th>\n",
              "      <th>1</th>\n",
              "      <th>chr1.1</th>\n",
              "      <th>4878010</th>\n",
              "      <th>ENSMUST00000134384.8</th>\n",
              "      <th>4878136</th>\n",
              "      <th>+</th>\n",
              "    </tr>\n",
              "  </thead>\n",
              "  <tbody>\n",
              "    <tr>\n",
              "      <th>0</th>\n",
              "      <td>chr1</td>\n",
              "      <td>4878048</td>\n",
              "      <td>4878049</td>\n",
              "      <td>1</td>\n",
              "      <td>chr1</td>\n",
              "      <td>4878045</td>\n",
              "      <td>ENSMUST00000027036.11</td>\n",
              "      <td>4878136</td>\n",
              "      <td>+</td>\n",
              "    </tr>\n",
              "    <tr>\n",
              "      <th>1</th>\n",
              "      <td>chr1</td>\n",
              "      <td>4878077</td>\n",
              "      <td>4878078</td>\n",
              "      <td>1</td>\n",
              "      <td>chr1</td>\n",
              "      <td>4878010</td>\n",
              "      <td>ENSMUST00000134384.8</td>\n",
              "      <td>4878136</td>\n",
              "      <td>+</td>\n",
              "    </tr>\n",
              "    <tr>\n",
              "      <th>2</th>\n",
              "      <td>chr1</td>\n",
              "      <td>4878077</td>\n",
              "      <td>4878078</td>\n",
              "      <td>1</td>\n",
              "      <td>chr1</td>\n",
              "      <td>4878045</td>\n",
              "      <td>ENSMUST00000027036.11</td>\n",
              "      <td>4878136</td>\n",
              "      <td>+</td>\n",
              "    </tr>\n",
              "    <tr>\n",
              "      <th>3</th>\n",
              "      <td>chr1</td>\n",
              "      <td>4878077</td>\n",
              "      <td>4878078</td>\n",
              "      <td>1</td>\n",
              "      <td>chr1</td>\n",
              "      <td>4878052</td>\n",
              "      <td>ENSMUST00000150971.8</td>\n",
              "      <td>4878136</td>\n",
              "      <td>+</td>\n",
              "    </tr>\n",
              "    <tr>\n",
              "      <th>4</th>\n",
              "      <td>chr1</td>\n",
              "      <td>4878101</td>\n",
              "      <td>4878102</td>\n",
              "      <td>4</td>\n",
              "      <td>chr1</td>\n",
              "      <td>4878010</td>\n",
              "      <td>ENSMUST00000134384.8</td>\n",
              "      <td>4878136</td>\n",
              "      <td>+</td>\n",
              "    </tr>\n",
              "    <tr>\n",
              "      <th>...</th>\n",
              "      <td>...</td>\n",
              "      <td>...</td>\n",
              "      <td>...</td>\n",
              "      <td>...</td>\n",
              "      <td>...</td>\n",
              "      <td>...</td>\n",
              "      <td>...</td>\n",
              "      <td>...</td>\n",
              "      <td>...</td>\n",
              "    </tr>\n",
              "    <tr>\n",
              "      <th>11978</th>\n",
              "      <td>chr1</td>\n",
              "      <td>109922092</td>\n",
              "      <td>109922093</td>\n",
              "      <td>327</td>\n",
              "      <td>chr1</td>\n",
              "      <td>109921711</td>\n",
              "      <td>ENSMUST00000027542.13</td>\n",
              "      <td>109921909</td>\n",
              "      <td>+</td>\n",
              "    </tr>\n",
              "    <tr>\n",
              "      <th>11979</th>\n",
              "      <td>chr1</td>\n",
              "      <td>109922092</td>\n",
              "      <td>109922093</td>\n",
              "      <td>327</td>\n",
              "      <td>chr1</td>\n",
              "      <td>109921715</td>\n",
              "      <td>ENSMUST00000129923.2</td>\n",
              "      <td>109921909</td>\n",
              "      <td>+</td>\n",
              "    </tr>\n",
              "    <tr>\n",
              "      <th>11980</th>\n",
              "      <td>chr1</td>\n",
              "      <td>109922092</td>\n",
              "      <td>109922093</td>\n",
              "      <td>327</td>\n",
              "      <td>chr1</td>\n",
              "      <td>109921715</td>\n",
              "      <td>ENSMUST00000131464.8</td>\n",
              "      <td>109921909</td>\n",
              "      <td>+</td>\n",
              "    </tr>\n",
              "    <tr>\n",
              "      <th>11981</th>\n",
              "      <td>chr1</td>\n",
              "      <td>109922092</td>\n",
              "      <td>109922093</td>\n",
              "      <td>327</td>\n",
              "      <td>chr1</td>\n",
              "      <td>109921715</td>\n",
              "      <td>ENSMUST00000137092.8</td>\n",
              "      <td>109921909</td>\n",
              "      <td>+</td>\n",
              "    </tr>\n",
              "    <tr>\n",
              "      <th>11982</th>\n",
              "      <td>chr1</td>\n",
              "      <td>109922092</td>\n",
              "      <td>109922093</td>\n",
              "      <td>327</td>\n",
              "      <td>chr1</td>\n",
              "      <td>109921715</td>\n",
              "      <td>ENSMUST00000172005.8</td>\n",
              "      <td>109921909</td>\n",
              "      <td>+</td>\n",
              "    </tr>\n",
              "  </tbody>\n",
              "</table>\n",
              "<p>11983 rows × 9 columns</p>\n",
              "</div>\n",
              "      <button class=\"colab-df-convert\" onclick=\"convertToInteractive('df-efc151a5-8ddb-4c97-ad62-05593e1ddc54')\"\n",
              "              title=\"Convert this dataframe to an interactive table.\"\n",
              "              style=\"display:none;\">\n",
              "        \n",
              "  <svg xmlns=\"http://www.w3.org/2000/svg\" height=\"24px\"viewBox=\"0 0 24 24\"\n",
              "       width=\"24px\">\n",
              "    <path d=\"M0 0h24v24H0V0z\" fill=\"none\"/>\n",
              "    <path d=\"M18.56 5.44l.94 2.06.94-2.06 2.06-.94-2.06-.94-.94-2.06-.94 2.06-2.06.94zm-11 1L8.5 8.5l.94-2.06 2.06-.94-2.06-.94L8.5 2.5l-.94 2.06-2.06.94zm10 10l.94 2.06.94-2.06 2.06-.94-2.06-.94-.94-2.06-.94 2.06-2.06.94z\"/><path d=\"M17.41 7.96l-1.37-1.37c-.4-.4-.92-.59-1.43-.59-.52 0-1.04.2-1.43.59L10.3 9.45l-7.72 7.72c-.78.78-.78 2.05 0 2.83L4 21.41c.39.39.9.59 1.41.59.51 0 1.02-.2 1.41-.59l7.78-7.78 2.81-2.81c.8-.78.8-2.07 0-2.86zM5.41 20L4 18.59l7.72-7.72 1.47 1.35L5.41 20z\"/>\n",
              "  </svg>\n",
              "      </button>\n",
              "      \n",
              "  <style>\n",
              "    .colab-df-container {\n",
              "      display:flex;\n",
              "      flex-wrap:wrap;\n",
              "      gap: 12px;\n",
              "    }\n",
              "\n",
              "    .colab-df-convert {\n",
              "      background-color: #E8F0FE;\n",
              "      border: none;\n",
              "      border-radius: 50%;\n",
              "      cursor: pointer;\n",
              "      display: none;\n",
              "      fill: #1967D2;\n",
              "      height: 32px;\n",
              "      padding: 0 0 0 0;\n",
              "      width: 32px;\n",
              "    }\n",
              "\n",
              "    .colab-df-convert:hover {\n",
              "      background-color: #E2EBFA;\n",
              "      box-shadow: 0px 1px 2px rgba(60, 64, 67, 0.3), 0px 1px 3px 1px rgba(60, 64, 67, 0.15);\n",
              "      fill: #174EA6;\n",
              "    }\n",
              "\n",
              "    [theme=dark] .colab-df-convert {\n",
              "      background-color: #3B4455;\n",
              "      fill: #D2E3FC;\n",
              "    }\n",
              "\n",
              "    [theme=dark] .colab-df-convert:hover {\n",
              "      background-color: #434B5C;\n",
              "      box-shadow: 0px 1px 3px 1px rgba(0, 0, 0, 0.15);\n",
              "      filter: drop-shadow(0px 1px 2px rgba(0, 0, 0, 0.3));\n",
              "      fill: #FFFFFF;\n",
              "    }\n",
              "  </style>\n",
              "\n",
              "      <script>\n",
              "        const buttonEl =\n",
              "          document.querySelector('#df-efc151a5-8ddb-4c97-ad62-05593e1ddc54 button.colab-df-convert');\n",
              "        buttonEl.style.display =\n",
              "          google.colab.kernel.accessAllowed ? 'block' : 'none';\n",
              "\n",
              "        async function convertToInteractive(key) {\n",
              "          const element = document.querySelector('#df-efc151a5-8ddb-4c97-ad62-05593e1ddc54');\n",
              "          const dataTable =\n",
              "            await google.colab.kernel.invokeFunction('convertToInteractive',\n",
              "                                                     [key], {});\n",
              "          if (!dataTable) return;\n",
              "\n",
              "          const docLinkHtml = 'Like what you see? Visit the ' +\n",
              "            '<a target=\"_blank\" href=https://colab.research.google.com/notebooks/data_table.ipynb>data table notebook</a>'\n",
              "            + ' to learn more about interactive tables.';\n",
              "          element.innerHTML = '';\n",
              "          dataTable['output_type'] = 'display_data';\n",
              "          await google.colab.output.renderOutput(dataTable, element);\n",
              "          const docLink = document.createElement('div');\n",
              "          docLink.innerHTML = docLinkHtml;\n",
              "          element.appendChild(docLink);\n",
              "        }\n",
              "      </script>\n",
              "    </div>\n",
              "  </div>\n",
              "  "
            ]
          },
          "metadata": {},
          "execution_count": 9
        }
      ]
    },
    {
      "cell_type": "code",
      "source": [
        "del filtered[\"1\"]"
      ],
      "metadata": {
        "id": "fQgXKzCiyW5X"
      },
      "execution_count": 10,
      "outputs": []
    },
    {
      "cell_type": "code",
      "source": [
        "del filtered[\"+\"]"
      ],
      "metadata": {
        "id": "VKBX3gPayZ-H"
      },
      "execution_count": 11,
      "outputs": []
    },
    {
      "cell_type": "code",
      "source": [
        "filtered"
      ],
      "metadata": {
        "colab": {
          "base_uri": "https://localhost:8080/",
          "height": 424
        },
        "id": "DMY4tM0NyduB",
        "outputId": "5d082948-b43b-4a02-f22b-e51d0e3b54fb"
      },
      "execution_count": 44,
      "outputs": [
        {
          "output_type": "execute_result",
          "data": {
            "text/plain": [
              "         4878048 chr1.1    4878010   ENSMUST00000134384.8    4878136\n",
              "0        4878048   chr1    4878045  ENSMUST00000027036.11    4878136\n",
              "1        4878077   chr1    4878010   ENSMUST00000134384.8    4878136\n",
              "2        4878077   chr1    4878045  ENSMUST00000027036.11    4878136\n",
              "3        4878077   chr1    4878052   ENSMUST00000150971.8    4878136\n",
              "4        4878101   chr1    4878010   ENSMUST00000134384.8    4878136\n",
              "...          ...    ...        ...                    ...        ...\n",
              "11978  109922092   chr1  109921711  ENSMUST00000027542.13  109921909\n",
              "11979  109922092   chr1  109921715   ENSMUST00000129923.2  109921909\n",
              "11980  109922092   chr1  109921715   ENSMUST00000131464.8  109921909\n",
              "11981  109922092   chr1  109921715   ENSMUST00000137092.8  109921909\n",
              "11982  109922092   chr1  109921715   ENSMUST00000172005.8  109921909\n",
              "\n",
              "[11983 rows x 5 columns]"
            ],
            "text/html": [
              "\n",
              "  <div id=\"df-ab63125c-e3b6-4992-a061-45076f23c857\">\n",
              "    <div class=\"colab-df-container\">\n",
              "      <div>\n",
              "<style scoped>\n",
              "    .dataframe tbody tr th:only-of-type {\n",
              "        vertical-align: middle;\n",
              "    }\n",
              "\n",
              "    .dataframe tbody tr th {\n",
              "        vertical-align: top;\n",
              "    }\n",
              "\n",
              "    .dataframe thead th {\n",
              "        text-align: right;\n",
              "    }\n",
              "</style>\n",
              "<table border=\"1\" class=\"dataframe\">\n",
              "  <thead>\n",
              "    <tr style=\"text-align: right;\">\n",
              "      <th></th>\n",
              "      <th>4878048</th>\n",
              "      <th>chr1.1</th>\n",
              "      <th>4878010</th>\n",
              "      <th>ENSMUST00000134384.8</th>\n",
              "      <th>4878136</th>\n",
              "    </tr>\n",
              "  </thead>\n",
              "  <tbody>\n",
              "    <tr>\n",
              "      <th>0</th>\n",
              "      <td>4878048</td>\n",
              "      <td>chr1</td>\n",
              "      <td>4878045</td>\n",
              "      <td>ENSMUST00000027036.11</td>\n",
              "      <td>4878136</td>\n",
              "    </tr>\n",
              "    <tr>\n",
              "      <th>1</th>\n",
              "      <td>4878077</td>\n",
              "      <td>chr1</td>\n",
              "      <td>4878010</td>\n",
              "      <td>ENSMUST00000134384.8</td>\n",
              "      <td>4878136</td>\n",
              "    </tr>\n",
              "    <tr>\n",
              "      <th>2</th>\n",
              "      <td>4878077</td>\n",
              "      <td>chr1</td>\n",
              "      <td>4878045</td>\n",
              "      <td>ENSMUST00000027036.11</td>\n",
              "      <td>4878136</td>\n",
              "    </tr>\n",
              "    <tr>\n",
              "      <th>3</th>\n",
              "      <td>4878077</td>\n",
              "      <td>chr1</td>\n",
              "      <td>4878052</td>\n",
              "      <td>ENSMUST00000150971.8</td>\n",
              "      <td>4878136</td>\n",
              "    </tr>\n",
              "    <tr>\n",
              "      <th>4</th>\n",
              "      <td>4878101</td>\n",
              "      <td>chr1</td>\n",
              "      <td>4878010</td>\n",
              "      <td>ENSMUST00000134384.8</td>\n",
              "      <td>4878136</td>\n",
              "    </tr>\n",
              "    <tr>\n",
              "      <th>...</th>\n",
              "      <td>...</td>\n",
              "      <td>...</td>\n",
              "      <td>...</td>\n",
              "      <td>...</td>\n",
              "      <td>...</td>\n",
              "    </tr>\n",
              "    <tr>\n",
              "      <th>11978</th>\n",
              "      <td>109922092</td>\n",
              "      <td>chr1</td>\n",
              "      <td>109921711</td>\n",
              "      <td>ENSMUST00000027542.13</td>\n",
              "      <td>109921909</td>\n",
              "    </tr>\n",
              "    <tr>\n",
              "      <th>11979</th>\n",
              "      <td>109922092</td>\n",
              "      <td>chr1</td>\n",
              "      <td>109921715</td>\n",
              "      <td>ENSMUST00000129923.2</td>\n",
              "      <td>109921909</td>\n",
              "    </tr>\n",
              "    <tr>\n",
              "      <th>11980</th>\n",
              "      <td>109922092</td>\n",
              "      <td>chr1</td>\n",
              "      <td>109921715</td>\n",
              "      <td>ENSMUST00000131464.8</td>\n",
              "      <td>109921909</td>\n",
              "    </tr>\n",
              "    <tr>\n",
              "      <th>11981</th>\n",
              "      <td>109922092</td>\n",
              "      <td>chr1</td>\n",
              "      <td>109921715</td>\n",
              "      <td>ENSMUST00000137092.8</td>\n",
              "      <td>109921909</td>\n",
              "    </tr>\n",
              "    <tr>\n",
              "      <th>11982</th>\n",
              "      <td>109922092</td>\n",
              "      <td>chr1</td>\n",
              "      <td>109921715</td>\n",
              "      <td>ENSMUST00000172005.8</td>\n",
              "      <td>109921909</td>\n",
              "    </tr>\n",
              "  </tbody>\n",
              "</table>\n",
              "<p>11983 rows × 5 columns</p>\n",
              "</div>\n",
              "      <button class=\"colab-df-convert\" onclick=\"convertToInteractive('df-ab63125c-e3b6-4992-a061-45076f23c857')\"\n",
              "              title=\"Convert this dataframe to an interactive table.\"\n",
              "              style=\"display:none;\">\n",
              "        \n",
              "  <svg xmlns=\"http://www.w3.org/2000/svg\" height=\"24px\"viewBox=\"0 0 24 24\"\n",
              "       width=\"24px\">\n",
              "    <path d=\"M0 0h24v24H0V0z\" fill=\"none\"/>\n",
              "    <path d=\"M18.56 5.44l.94 2.06.94-2.06 2.06-.94-2.06-.94-.94-2.06-.94 2.06-2.06.94zm-11 1L8.5 8.5l.94-2.06 2.06-.94-2.06-.94L8.5 2.5l-.94 2.06-2.06.94zm10 10l.94 2.06.94-2.06 2.06-.94-2.06-.94-.94-2.06-.94 2.06-2.06.94z\"/><path d=\"M17.41 7.96l-1.37-1.37c-.4-.4-.92-.59-1.43-.59-.52 0-1.04.2-1.43.59L10.3 9.45l-7.72 7.72c-.78.78-.78 2.05 0 2.83L4 21.41c.39.39.9.59 1.41.59.51 0 1.02-.2 1.41-.59l7.78-7.78 2.81-2.81c.8-.78.8-2.07 0-2.86zM5.41 20L4 18.59l7.72-7.72 1.47 1.35L5.41 20z\"/>\n",
              "  </svg>\n",
              "      </button>\n",
              "      \n",
              "  <style>\n",
              "    .colab-df-container {\n",
              "      display:flex;\n",
              "      flex-wrap:wrap;\n",
              "      gap: 12px;\n",
              "    }\n",
              "\n",
              "    .colab-df-convert {\n",
              "      background-color: #E8F0FE;\n",
              "      border: none;\n",
              "      border-radius: 50%;\n",
              "      cursor: pointer;\n",
              "      display: none;\n",
              "      fill: #1967D2;\n",
              "      height: 32px;\n",
              "      padding: 0 0 0 0;\n",
              "      width: 32px;\n",
              "    }\n",
              "\n",
              "    .colab-df-convert:hover {\n",
              "      background-color: #E2EBFA;\n",
              "      box-shadow: 0px 1px 2px rgba(60, 64, 67, 0.3), 0px 1px 3px 1px rgba(60, 64, 67, 0.15);\n",
              "      fill: #174EA6;\n",
              "    }\n",
              "\n",
              "    [theme=dark] .colab-df-convert {\n",
              "      background-color: #3B4455;\n",
              "      fill: #D2E3FC;\n",
              "    }\n",
              "\n",
              "    [theme=dark] .colab-df-convert:hover {\n",
              "      background-color: #434B5C;\n",
              "      box-shadow: 0px 1px 3px 1px rgba(0, 0, 0, 0.15);\n",
              "      filter: drop-shadow(0px 1px 2px rgba(0, 0, 0, 0.3));\n",
              "      fill: #FFFFFF;\n",
              "    }\n",
              "  </style>\n",
              "\n",
              "      <script>\n",
              "        const buttonEl =\n",
              "          document.querySelector('#df-ab63125c-e3b6-4992-a061-45076f23c857 button.colab-df-convert');\n",
              "        buttonEl.style.display =\n",
              "          google.colab.kernel.accessAllowed ? 'block' : 'none';\n",
              "\n",
              "        async function convertToInteractive(key) {\n",
              "          const element = document.querySelector('#df-ab63125c-e3b6-4992-a061-45076f23c857');\n",
              "          const dataTable =\n",
              "            await google.colab.kernel.invokeFunction('convertToInteractive',\n",
              "                                                     [key], {});\n",
              "          if (!dataTable) return;\n",
              "\n",
              "          const docLinkHtml = 'Like what you see? Visit the ' +\n",
              "            '<a target=\"_blank\" href=https://colab.research.google.com/notebooks/data_table.ipynb>data table notebook</a>'\n",
              "            + ' to learn more about interactive tables.';\n",
              "          element.innerHTML = '';\n",
              "          dataTable['output_type'] = 'display_data';\n",
              "          await google.colab.output.renderOutput(dataTable, element);\n",
              "          const docLink = document.createElement('div');\n",
              "          docLink.innerHTML = docLinkHtml;\n",
              "          element.appendChild(docLink);\n",
              "        }\n",
              "      </script>\n",
              "    </div>\n",
              "  </div>\n",
              "  "
            ]
          },
          "metadata": {},
          "execution_count": 44
        }
      ]
    },
    {
      "cell_type": "code",
      "source": [
        "  filtered.rename(columns = {'4878048' : 'siLucstart', 'chr1.1' : 'Chromosome', '4878010' : '28start', 'ENSMUST00000134384.8' : 'Gene', '4878136' : 'startcodon'}, inplace = True )\n",
        "filtered\n",
        "\n"
      ],
      "metadata": {
        "colab": {
          "base_uri": "https://localhost:8080/",
          "height": 424
        },
        "id": "68oW-Z2yuGTI",
        "outputId": "474e0a71-a034-4782-955b-faf760420b75"
      },
      "execution_count": 12,
      "outputs": [
        {
          "output_type": "execute_result",
          "data": {
            "text/plain": [
              "       chr1  siLucstart    4878049 Chromosome    28start  \\\n",
              "0      chr1     4878048    4878049       chr1    4878045   \n",
              "1      chr1     4878077    4878078       chr1    4878010   \n",
              "2      chr1     4878077    4878078       chr1    4878045   \n",
              "3      chr1     4878077    4878078       chr1    4878052   \n",
              "4      chr1     4878101    4878102       chr1    4878010   \n",
              "...     ...         ...        ...        ...        ...   \n",
              "11978  chr1   109922092  109922093       chr1  109921711   \n",
              "11979  chr1   109922092  109922093       chr1  109921715   \n",
              "11980  chr1   109922092  109922093       chr1  109921715   \n",
              "11981  chr1   109922092  109922093       chr1  109921715   \n",
              "11982  chr1   109922092  109922093       chr1  109921715   \n",
              "\n",
              "                        Gene  startcodon  \n",
              "0      ENSMUST00000027036.11     4878136  \n",
              "1       ENSMUST00000134384.8     4878136  \n",
              "2      ENSMUST00000027036.11     4878136  \n",
              "3       ENSMUST00000150971.8     4878136  \n",
              "4       ENSMUST00000134384.8     4878136  \n",
              "...                      ...         ...  \n",
              "11978  ENSMUST00000027542.13   109921909  \n",
              "11979   ENSMUST00000129923.2   109921909  \n",
              "11980   ENSMUST00000131464.8   109921909  \n",
              "11981   ENSMUST00000137092.8   109921909  \n",
              "11982   ENSMUST00000172005.8   109921909  \n",
              "\n",
              "[11983 rows x 7 columns]"
            ],
            "text/html": [
              "\n",
              "  <div id=\"df-85d89ae2-ca99-4e1c-8558-03092d45e312\">\n",
              "    <div class=\"colab-df-container\">\n",
              "      <div>\n",
              "<style scoped>\n",
              "    .dataframe tbody tr th:only-of-type {\n",
              "        vertical-align: middle;\n",
              "    }\n",
              "\n",
              "    .dataframe tbody tr th {\n",
              "        vertical-align: top;\n",
              "    }\n",
              "\n",
              "    .dataframe thead th {\n",
              "        text-align: right;\n",
              "    }\n",
              "</style>\n",
              "<table border=\"1\" class=\"dataframe\">\n",
              "  <thead>\n",
              "    <tr style=\"text-align: right;\">\n",
              "      <th></th>\n",
              "      <th>chr1</th>\n",
              "      <th>siLucstart</th>\n",
              "      <th>4878049</th>\n",
              "      <th>Chromosome</th>\n",
              "      <th>28start</th>\n",
              "      <th>Gene</th>\n",
              "      <th>startcodon</th>\n",
              "    </tr>\n",
              "  </thead>\n",
              "  <tbody>\n",
              "    <tr>\n",
              "      <th>0</th>\n",
              "      <td>chr1</td>\n",
              "      <td>4878048</td>\n",
              "      <td>4878049</td>\n",
              "      <td>chr1</td>\n",
              "      <td>4878045</td>\n",
              "      <td>ENSMUST00000027036.11</td>\n",
              "      <td>4878136</td>\n",
              "    </tr>\n",
              "    <tr>\n",
              "      <th>1</th>\n",
              "      <td>chr1</td>\n",
              "      <td>4878077</td>\n",
              "      <td>4878078</td>\n",
              "      <td>chr1</td>\n",
              "      <td>4878010</td>\n",
              "      <td>ENSMUST00000134384.8</td>\n",
              "      <td>4878136</td>\n",
              "    </tr>\n",
              "    <tr>\n",
              "      <th>2</th>\n",
              "      <td>chr1</td>\n",
              "      <td>4878077</td>\n",
              "      <td>4878078</td>\n",
              "      <td>chr1</td>\n",
              "      <td>4878045</td>\n",
              "      <td>ENSMUST00000027036.11</td>\n",
              "      <td>4878136</td>\n",
              "    </tr>\n",
              "    <tr>\n",
              "      <th>3</th>\n",
              "      <td>chr1</td>\n",
              "      <td>4878077</td>\n",
              "      <td>4878078</td>\n",
              "      <td>chr1</td>\n",
              "      <td>4878052</td>\n",
              "      <td>ENSMUST00000150971.8</td>\n",
              "      <td>4878136</td>\n",
              "    </tr>\n",
              "    <tr>\n",
              "      <th>4</th>\n",
              "      <td>chr1</td>\n",
              "      <td>4878101</td>\n",
              "      <td>4878102</td>\n",
              "      <td>chr1</td>\n",
              "      <td>4878010</td>\n",
              "      <td>ENSMUST00000134384.8</td>\n",
              "      <td>4878136</td>\n",
              "    </tr>\n",
              "    <tr>\n",
              "      <th>...</th>\n",
              "      <td>...</td>\n",
              "      <td>...</td>\n",
              "      <td>...</td>\n",
              "      <td>...</td>\n",
              "      <td>...</td>\n",
              "      <td>...</td>\n",
              "      <td>...</td>\n",
              "    </tr>\n",
              "    <tr>\n",
              "      <th>11978</th>\n",
              "      <td>chr1</td>\n",
              "      <td>109922092</td>\n",
              "      <td>109922093</td>\n",
              "      <td>chr1</td>\n",
              "      <td>109921711</td>\n",
              "      <td>ENSMUST00000027542.13</td>\n",
              "      <td>109921909</td>\n",
              "    </tr>\n",
              "    <tr>\n",
              "      <th>11979</th>\n",
              "      <td>chr1</td>\n",
              "      <td>109922092</td>\n",
              "      <td>109922093</td>\n",
              "      <td>chr1</td>\n",
              "      <td>109921715</td>\n",
              "      <td>ENSMUST00000129923.2</td>\n",
              "      <td>109921909</td>\n",
              "    </tr>\n",
              "    <tr>\n",
              "      <th>11980</th>\n",
              "      <td>chr1</td>\n",
              "      <td>109922092</td>\n",
              "      <td>109922093</td>\n",
              "      <td>chr1</td>\n",
              "      <td>109921715</td>\n",
              "      <td>ENSMUST00000131464.8</td>\n",
              "      <td>109921909</td>\n",
              "    </tr>\n",
              "    <tr>\n",
              "      <th>11981</th>\n",
              "      <td>chr1</td>\n",
              "      <td>109922092</td>\n",
              "      <td>109922093</td>\n",
              "      <td>chr1</td>\n",
              "      <td>109921715</td>\n",
              "      <td>ENSMUST00000137092.8</td>\n",
              "      <td>109921909</td>\n",
              "    </tr>\n",
              "    <tr>\n",
              "      <th>11982</th>\n",
              "      <td>chr1</td>\n",
              "      <td>109922092</td>\n",
              "      <td>109922093</td>\n",
              "      <td>chr1</td>\n",
              "      <td>109921715</td>\n",
              "      <td>ENSMUST00000172005.8</td>\n",
              "      <td>109921909</td>\n",
              "    </tr>\n",
              "  </tbody>\n",
              "</table>\n",
              "<p>11983 rows × 7 columns</p>\n",
              "</div>\n",
              "      <button class=\"colab-df-convert\" onclick=\"convertToInteractive('df-85d89ae2-ca99-4e1c-8558-03092d45e312')\"\n",
              "              title=\"Convert this dataframe to an interactive table.\"\n",
              "              style=\"display:none;\">\n",
              "        \n",
              "  <svg xmlns=\"http://www.w3.org/2000/svg\" height=\"24px\"viewBox=\"0 0 24 24\"\n",
              "       width=\"24px\">\n",
              "    <path d=\"M0 0h24v24H0V0z\" fill=\"none\"/>\n",
              "    <path d=\"M18.56 5.44l.94 2.06.94-2.06 2.06-.94-2.06-.94-.94-2.06-.94 2.06-2.06.94zm-11 1L8.5 8.5l.94-2.06 2.06-.94-2.06-.94L8.5 2.5l-.94 2.06-2.06.94zm10 10l.94 2.06.94-2.06 2.06-.94-2.06-.94-.94-2.06-.94 2.06-2.06.94z\"/><path d=\"M17.41 7.96l-1.37-1.37c-.4-.4-.92-.59-1.43-.59-.52 0-1.04.2-1.43.59L10.3 9.45l-7.72 7.72c-.78.78-.78 2.05 0 2.83L4 21.41c.39.39.9.59 1.41.59.51 0 1.02-.2 1.41-.59l7.78-7.78 2.81-2.81c.8-.78.8-2.07 0-2.86zM5.41 20L4 18.59l7.72-7.72 1.47 1.35L5.41 20z\"/>\n",
              "  </svg>\n",
              "      </button>\n",
              "      \n",
              "  <style>\n",
              "    .colab-df-container {\n",
              "      display:flex;\n",
              "      flex-wrap:wrap;\n",
              "      gap: 12px;\n",
              "    }\n",
              "\n",
              "    .colab-df-convert {\n",
              "      background-color: #E8F0FE;\n",
              "      border: none;\n",
              "      border-radius: 50%;\n",
              "      cursor: pointer;\n",
              "      display: none;\n",
              "      fill: #1967D2;\n",
              "      height: 32px;\n",
              "      padding: 0 0 0 0;\n",
              "      width: 32px;\n",
              "    }\n",
              "\n",
              "    .colab-df-convert:hover {\n",
              "      background-color: #E2EBFA;\n",
              "      box-shadow: 0px 1px 2px rgba(60, 64, 67, 0.3), 0px 1px 3px 1px rgba(60, 64, 67, 0.15);\n",
              "      fill: #174EA6;\n",
              "    }\n",
              "\n",
              "    [theme=dark] .colab-df-convert {\n",
              "      background-color: #3B4455;\n",
              "      fill: #D2E3FC;\n",
              "    }\n",
              "\n",
              "    [theme=dark] .colab-df-convert:hover {\n",
              "      background-color: #434B5C;\n",
              "      box-shadow: 0px 1px 3px 1px rgba(0, 0, 0, 0.15);\n",
              "      filter: drop-shadow(0px 1px 2px rgba(0, 0, 0, 0.3));\n",
              "      fill: #FFFFFF;\n",
              "    }\n",
              "  </style>\n",
              "\n",
              "      <script>\n",
              "        const buttonEl =\n",
              "          document.querySelector('#df-85d89ae2-ca99-4e1c-8558-03092d45e312 button.colab-df-convert');\n",
              "        buttonEl.style.display =\n",
              "          google.colab.kernel.accessAllowed ? 'block' : 'none';\n",
              "\n",
              "        async function convertToInteractive(key) {\n",
              "          const element = document.querySelector('#df-85d89ae2-ca99-4e1c-8558-03092d45e312');\n",
              "          const dataTable =\n",
              "            await google.colab.kernel.invokeFunction('convertToInteractive',\n",
              "                                                     [key], {});\n",
              "          if (!dataTable) return;\n",
              "\n",
              "          const docLinkHtml = 'Like what you see? Visit the ' +\n",
              "            '<a target=\"_blank\" href=https://colab.research.google.com/notebooks/data_table.ipynb>data table notebook</a>'\n",
              "            + ' to learn more about interactive tables.';\n",
              "          element.innerHTML = '';\n",
              "          dataTable['output_type'] = 'display_data';\n",
              "          await google.colab.output.renderOutput(dataTable, element);\n",
              "          const docLink = document.createElement('div');\n",
              "          docLink.innerHTML = docLinkHtml;\n",
              "          element.appendChild(docLink);\n",
              "        }\n",
              "      </script>\n",
              "    </div>\n",
              "  </div>\n",
              "  "
            ]
          },
          "metadata": {},
          "execution_count": 12
        }
      ]
    },
    {
      "cell_type": "code",
      "source": [
        "#column 생성\n",
        "filtered['Lucsize'] = filtered['startcodon']-filtered['siLucstart']\n",
        "filtered['28size'] = filtered['startcodon']-filtered['28start']\n",
        "filtered\n"
      ],
      "metadata": {
        "colab": {
          "base_uri": "https://localhost:8080/",
          "height": 424
        },
        "id": "fnwr8fbgzMDv",
        "outputId": "ef050202-19a3-4430-a8bf-cba1cc39ef87"
      },
      "execution_count": 13,
      "outputs": [
        {
          "output_type": "execute_result",
          "data": {
            "text/plain": [
              "       chr1  siLucstart    4878049 Chromosome    28start  \\\n",
              "0      chr1     4878048    4878049       chr1    4878045   \n",
              "1      chr1     4878077    4878078       chr1    4878010   \n",
              "2      chr1     4878077    4878078       chr1    4878045   \n",
              "3      chr1     4878077    4878078       chr1    4878052   \n",
              "4      chr1     4878101    4878102       chr1    4878010   \n",
              "...     ...         ...        ...        ...        ...   \n",
              "11978  chr1   109922092  109922093       chr1  109921711   \n",
              "11979  chr1   109922092  109922093       chr1  109921715   \n",
              "11980  chr1   109922092  109922093       chr1  109921715   \n",
              "11981  chr1   109922092  109922093       chr1  109921715   \n",
              "11982  chr1   109922092  109922093       chr1  109921715   \n",
              "\n",
              "                        Gene  startcodon  Lucsize  28size  \n",
              "0      ENSMUST00000027036.11     4878136       88      91  \n",
              "1       ENSMUST00000134384.8     4878136       59     126  \n",
              "2      ENSMUST00000027036.11     4878136       59      91  \n",
              "3       ENSMUST00000150971.8     4878136       59      84  \n",
              "4       ENSMUST00000134384.8     4878136       35     126  \n",
              "...                      ...         ...      ...     ...  \n",
              "11978  ENSMUST00000027542.13   109921909     -183     198  \n",
              "11979   ENSMUST00000129923.2   109921909     -183     194  \n",
              "11980   ENSMUST00000131464.8   109921909     -183     194  \n",
              "11981   ENSMUST00000137092.8   109921909     -183     194  \n",
              "11982   ENSMUST00000172005.8   109921909     -183     194  \n",
              "\n",
              "[11983 rows x 9 columns]"
            ],
            "text/html": [
              "\n",
              "  <div id=\"df-3f1adf9b-15fb-4756-a2f4-afe4927de9a0\">\n",
              "    <div class=\"colab-df-container\">\n",
              "      <div>\n",
              "<style scoped>\n",
              "    .dataframe tbody tr th:only-of-type {\n",
              "        vertical-align: middle;\n",
              "    }\n",
              "\n",
              "    .dataframe tbody tr th {\n",
              "        vertical-align: top;\n",
              "    }\n",
              "\n",
              "    .dataframe thead th {\n",
              "        text-align: right;\n",
              "    }\n",
              "</style>\n",
              "<table border=\"1\" class=\"dataframe\">\n",
              "  <thead>\n",
              "    <tr style=\"text-align: right;\">\n",
              "      <th></th>\n",
              "      <th>chr1</th>\n",
              "      <th>siLucstart</th>\n",
              "      <th>4878049</th>\n",
              "      <th>Chromosome</th>\n",
              "      <th>28start</th>\n",
              "      <th>Gene</th>\n",
              "      <th>startcodon</th>\n",
              "      <th>Lucsize</th>\n",
              "      <th>28size</th>\n",
              "    </tr>\n",
              "  </thead>\n",
              "  <tbody>\n",
              "    <tr>\n",
              "      <th>0</th>\n",
              "      <td>chr1</td>\n",
              "      <td>4878048</td>\n",
              "      <td>4878049</td>\n",
              "      <td>chr1</td>\n",
              "      <td>4878045</td>\n",
              "      <td>ENSMUST00000027036.11</td>\n",
              "      <td>4878136</td>\n",
              "      <td>88</td>\n",
              "      <td>91</td>\n",
              "    </tr>\n",
              "    <tr>\n",
              "      <th>1</th>\n",
              "      <td>chr1</td>\n",
              "      <td>4878077</td>\n",
              "      <td>4878078</td>\n",
              "      <td>chr1</td>\n",
              "      <td>4878010</td>\n",
              "      <td>ENSMUST00000134384.8</td>\n",
              "      <td>4878136</td>\n",
              "      <td>59</td>\n",
              "      <td>126</td>\n",
              "    </tr>\n",
              "    <tr>\n",
              "      <th>2</th>\n",
              "      <td>chr1</td>\n",
              "      <td>4878077</td>\n",
              "      <td>4878078</td>\n",
              "      <td>chr1</td>\n",
              "      <td>4878045</td>\n",
              "      <td>ENSMUST00000027036.11</td>\n",
              "      <td>4878136</td>\n",
              "      <td>59</td>\n",
              "      <td>91</td>\n",
              "    </tr>\n",
              "    <tr>\n",
              "      <th>3</th>\n",
              "      <td>chr1</td>\n",
              "      <td>4878077</td>\n",
              "      <td>4878078</td>\n",
              "      <td>chr1</td>\n",
              "      <td>4878052</td>\n",
              "      <td>ENSMUST00000150971.8</td>\n",
              "      <td>4878136</td>\n",
              "      <td>59</td>\n",
              "      <td>84</td>\n",
              "    </tr>\n",
              "    <tr>\n",
              "      <th>4</th>\n",
              "      <td>chr1</td>\n",
              "      <td>4878101</td>\n",
              "      <td>4878102</td>\n",
              "      <td>chr1</td>\n",
              "      <td>4878010</td>\n",
              "      <td>ENSMUST00000134384.8</td>\n",
              "      <td>4878136</td>\n",
              "      <td>35</td>\n",
              "      <td>126</td>\n",
              "    </tr>\n",
              "    <tr>\n",
              "      <th>...</th>\n",
              "      <td>...</td>\n",
              "      <td>...</td>\n",
              "      <td>...</td>\n",
              "      <td>...</td>\n",
              "      <td>...</td>\n",
              "      <td>...</td>\n",
              "      <td>...</td>\n",
              "      <td>...</td>\n",
              "      <td>...</td>\n",
              "    </tr>\n",
              "    <tr>\n",
              "      <th>11978</th>\n",
              "      <td>chr1</td>\n",
              "      <td>109922092</td>\n",
              "      <td>109922093</td>\n",
              "      <td>chr1</td>\n",
              "      <td>109921711</td>\n",
              "      <td>ENSMUST00000027542.13</td>\n",
              "      <td>109921909</td>\n",
              "      <td>-183</td>\n",
              "      <td>198</td>\n",
              "    </tr>\n",
              "    <tr>\n",
              "      <th>11979</th>\n",
              "      <td>chr1</td>\n",
              "      <td>109922092</td>\n",
              "      <td>109922093</td>\n",
              "      <td>chr1</td>\n",
              "      <td>109921715</td>\n",
              "      <td>ENSMUST00000129923.2</td>\n",
              "      <td>109921909</td>\n",
              "      <td>-183</td>\n",
              "      <td>194</td>\n",
              "    </tr>\n",
              "    <tr>\n",
              "      <th>11980</th>\n",
              "      <td>chr1</td>\n",
              "      <td>109922092</td>\n",
              "      <td>109922093</td>\n",
              "      <td>chr1</td>\n",
              "      <td>109921715</td>\n",
              "      <td>ENSMUST00000131464.8</td>\n",
              "      <td>109921909</td>\n",
              "      <td>-183</td>\n",
              "      <td>194</td>\n",
              "    </tr>\n",
              "    <tr>\n",
              "      <th>11981</th>\n",
              "      <td>chr1</td>\n",
              "      <td>109922092</td>\n",
              "      <td>109922093</td>\n",
              "      <td>chr1</td>\n",
              "      <td>109921715</td>\n",
              "      <td>ENSMUST00000137092.8</td>\n",
              "      <td>109921909</td>\n",
              "      <td>-183</td>\n",
              "      <td>194</td>\n",
              "    </tr>\n",
              "    <tr>\n",
              "      <th>11982</th>\n",
              "      <td>chr1</td>\n",
              "      <td>109922092</td>\n",
              "      <td>109922093</td>\n",
              "      <td>chr1</td>\n",
              "      <td>109921715</td>\n",
              "      <td>ENSMUST00000172005.8</td>\n",
              "      <td>109921909</td>\n",
              "      <td>-183</td>\n",
              "      <td>194</td>\n",
              "    </tr>\n",
              "  </tbody>\n",
              "</table>\n",
              "<p>11983 rows × 9 columns</p>\n",
              "</div>\n",
              "      <button class=\"colab-df-convert\" onclick=\"convertToInteractive('df-3f1adf9b-15fb-4756-a2f4-afe4927de9a0')\"\n",
              "              title=\"Convert this dataframe to an interactive table.\"\n",
              "              style=\"display:none;\">\n",
              "        \n",
              "  <svg xmlns=\"http://www.w3.org/2000/svg\" height=\"24px\"viewBox=\"0 0 24 24\"\n",
              "       width=\"24px\">\n",
              "    <path d=\"M0 0h24v24H0V0z\" fill=\"none\"/>\n",
              "    <path d=\"M18.56 5.44l.94 2.06.94-2.06 2.06-.94-2.06-.94-.94-2.06-.94 2.06-2.06.94zm-11 1L8.5 8.5l.94-2.06 2.06-.94-2.06-.94L8.5 2.5l-.94 2.06-2.06.94zm10 10l.94 2.06.94-2.06 2.06-.94-2.06-.94-.94-2.06-.94 2.06-2.06.94z\"/><path d=\"M17.41 7.96l-1.37-1.37c-.4-.4-.92-.59-1.43-.59-.52 0-1.04.2-1.43.59L10.3 9.45l-7.72 7.72c-.78.78-.78 2.05 0 2.83L4 21.41c.39.39.9.59 1.41.59.51 0 1.02-.2 1.41-.59l7.78-7.78 2.81-2.81c.8-.78.8-2.07 0-2.86zM5.41 20L4 18.59l7.72-7.72 1.47 1.35L5.41 20z\"/>\n",
              "  </svg>\n",
              "      </button>\n",
              "      \n",
              "  <style>\n",
              "    .colab-df-container {\n",
              "      display:flex;\n",
              "      flex-wrap:wrap;\n",
              "      gap: 12px;\n",
              "    }\n",
              "\n",
              "    .colab-df-convert {\n",
              "      background-color: #E8F0FE;\n",
              "      border: none;\n",
              "      border-radius: 50%;\n",
              "      cursor: pointer;\n",
              "      display: none;\n",
              "      fill: #1967D2;\n",
              "      height: 32px;\n",
              "      padding: 0 0 0 0;\n",
              "      width: 32px;\n",
              "    }\n",
              "\n",
              "    .colab-df-convert:hover {\n",
              "      background-color: #E2EBFA;\n",
              "      box-shadow: 0px 1px 2px rgba(60, 64, 67, 0.3), 0px 1px 3px 1px rgba(60, 64, 67, 0.15);\n",
              "      fill: #174EA6;\n",
              "    }\n",
              "\n",
              "    [theme=dark] .colab-df-convert {\n",
              "      background-color: #3B4455;\n",
              "      fill: #D2E3FC;\n",
              "    }\n",
              "\n",
              "    [theme=dark] .colab-df-convert:hover {\n",
              "      background-color: #434B5C;\n",
              "      box-shadow: 0px 1px 3px 1px rgba(0, 0, 0, 0.15);\n",
              "      filter: drop-shadow(0px 1px 2px rgba(0, 0, 0, 0.3));\n",
              "      fill: #FFFFFF;\n",
              "    }\n",
              "  </style>\n",
              "\n",
              "      <script>\n",
              "        const buttonEl =\n",
              "          document.querySelector('#df-3f1adf9b-15fb-4756-a2f4-afe4927de9a0 button.colab-df-convert');\n",
              "        buttonEl.style.display =\n",
              "          google.colab.kernel.accessAllowed ? 'block' : 'none';\n",
              "\n",
              "        async function convertToInteractive(key) {\n",
              "          const element = document.querySelector('#df-3f1adf9b-15fb-4756-a2f4-afe4927de9a0');\n",
              "          const dataTable =\n",
              "            await google.colab.kernel.invokeFunction('convertToInteractive',\n",
              "                                                     [key], {});\n",
              "          if (!dataTable) return;\n",
              "\n",
              "          const docLinkHtml = 'Like what you see? Visit the ' +\n",
              "            '<a target=\"_blank\" href=https://colab.research.google.com/notebooks/data_table.ipynb>data table notebook</a>'\n",
              "            + ' to learn more about interactive tables.';\n",
              "          element.innerHTML = '';\n",
              "          dataTable['output_type'] = 'display_data';\n",
              "          await google.colab.output.renderOutput(dataTable, element);\n",
              "          const docLink = document.createElement('div');\n",
              "          docLink.innerHTML = docLinkHtml;\n",
              "          element.appendChild(docLink);\n",
              "        }\n",
              "      </script>\n",
              "    </div>\n",
              "  </div>\n",
              "  "
            ]
          },
          "metadata": {},
          "execution_count": 13
        }
      ]
    },
    {
      "cell_type": "code",
      "source": [
        "filtered['Lucsize2'] = filtered['siLucstart']-filtered['startcodon']\n",
        "filtered['28size2'] = filtered['28start']-filtered['startcodon']"
      ],
      "metadata": {
        "id": "aw-1zt472_cx"
      },
      "execution_count": 14,
      "outputs": []
    },
    {
      "cell_type": "code",
      "source": [
        "filtered['Lucsize3'] = filtered['Lucsize2']/100\n",
        "filtered['28size3'] = filtered['28size2']/100\n"
      ],
      "metadata": {
        "id": "sfwuXfbx3wU0"
      },
      "execution_count": 15,
      "outputs": []
    },
    {
      "cell_type": "code",
      "source": [
        "#막대그래프 생성\n",
        "import numpy as np\n",
        "import matplotlib.pyplot as plt\n",
        "import seaborn as sns\n",
        "import matplotlib.mlab as mlab"
      ],
      "metadata": {
        "id": "ujBMhxzI0Vkn"
      },
      "execution_count": 86,
      "outputs": []
    },
    {
      "cell_type": "code",
      "source": [
        ""
      ],
      "metadata": {
        "id": "nqnKwC44TSjl"
      },
      "execution_count": null,
      "outputs": []
    },
    {
      "cell_type": "code",
      "source": [
        "filtered.Lucsize.plot(kind = 'bar', stacked = True)"
      ],
      "metadata": {
        "colab": {
          "base_uri": "https://localhost:8080/",
          "height": 304
        },
        "id": "INiZhq0m08r_",
        "outputId": "f974d7a6-d416-4e67-bd1e-2469aa16316e"
      },
      "execution_count": 85,
      "outputs": [
        {
          "output_type": "execute_result",
          "data": {
            "text/plain": [
              "<matplotlib.axes._subplots.AxesSubplot at 0x7f3794d0bad0>"
            ]
          },
          "metadata": {},
          "execution_count": 85
        },
        {
          "output_type": "display_data",
          "data": {
            "text/plain": [
              "<Figure size 432x288 with 1 Axes>"
            ],
            "image/png": "[encoded data removed]"
          },
          "metadata": {
            "needs_background": "light"
          }
        }
      ]
    },
    {
      "cell_type": "code",
      "source": [
        "filtered.Lucsize.hist()"
      ],
      "metadata": {
        "colab": {
          "base_uri": "https://localhost:8080/",
          "height": 287
        },
        "id": "eOycKw3l21S_",
        "outputId": "99b5a097-9506-4f8d-e059-2f0419a98b17"
      },
      "execution_count": 79,
      "outputs": [
        {
          "output_type": "error",
          "ename": "AttributeError",
          "evalue": "ignored",
          "traceback": [
            "\u001b[0;31m---------------------------------------------------------------------------\u001b[0m",
            "\u001b[0;31mAttributeError\u001b[0m                            Traceback (most recent call last)",
            "\u001b[0;32m<ipython-input-79-4f4fefbf2630>\u001b[0m in \u001b[0;36m<module>\u001b[0;34m()\u001b[0m\n\u001b[0;32m----> 1\u001b[0;31m \u001b[0mfiltered\u001b[0m\u001b[0;34m.\u001b[0m\u001b[0mLucsize\u001b[0m\u001b[0;34m.\u001b[0m\u001b[0mhist\u001b[0m\u001b[0;34m(\u001b[0m\u001b[0;34m)\u001b[0m\u001b[0;34m\u001b[0m\u001b[0;34m\u001b[0m\u001b[0m\n\u001b[0m",
            "\u001b[0;32m/usr/local/lib/python3.7/dist-packages/pandas/core/generic.py\u001b[0m in \u001b[0;36m__getattr__\u001b[0;34m(self, name)\u001b[0m\n\u001b[1;32m   5485\u001b[0m         ):\n\u001b[1;32m   5486\u001b[0m             \u001b[0;32mreturn\u001b[0m \u001b[0mself\u001b[0m\u001b[0;34m[\u001b[0m\u001b[0mname\u001b[0m\u001b[0;34m]\u001b[0m\u001b[0;34m\u001b[0m\u001b[0;34m\u001b[0m\u001b[0m\n\u001b[0;32m-> 5487\u001b[0;31m         \u001b[0;32mreturn\u001b[0m \u001b[0mobject\u001b[0m\u001b[0;34m.\u001b[0m\u001b[0m__getattribute__\u001b[0m\u001b[0;34m(\u001b[0m\u001b[0mself\u001b[0m\u001b[0;34m,\u001b[0m \u001b[0mname\u001b[0m\u001b[0;34m)\u001b[0m\u001b[0;34m\u001b[0m\u001b[0;34m\u001b[0m\u001b[0m\n\u001b[0m\u001b[1;32m   5488\u001b[0m \u001b[0;34m\u001b[0m\u001b[0m\n\u001b[1;32m   5489\u001b[0m     \u001b[0;32mdef\u001b[0m \u001b[0m__setattr__\u001b[0m\u001b[0;34m(\u001b[0m\u001b[0mself\u001b[0m\u001b[0;34m,\u001b[0m \u001b[0mname\u001b[0m\u001b[0;34m:\u001b[0m \u001b[0mstr\u001b[0m\u001b[0;34m,\u001b[0m \u001b[0mvalue\u001b[0m\u001b[0;34m)\u001b[0m \u001b[0;34m->\u001b[0m \u001b[0;32mNone\u001b[0m\u001b[0;34m:\u001b[0m\u001b[0;34m\u001b[0m\u001b[0;34m\u001b[0m\u001b[0m\n",
            "\u001b[0;31mAttributeError\u001b[0m: 'DataFrame' object has no attribute 'Lucsize'"
          ]
        }
      ]
    },
    {
      "cell_type": "code",
      "source": [
        "filtered.Lucsize3.hist()\n",
        "plt.xlim(-50,50)"
      ],
      "metadata": {
        "colab": {
          "base_uri": "https://localhost:8080/",
          "height": 282
        },
        "id": "CfBXl7eV3NuP",
        "outputId": "2c64817a-bf15-47ff-cbe1-fffd1d32d91b"
      },
      "execution_count": 57,
      "outputs": [
        {
          "output_type": "execute_result",
          "data": {
            "text/plain": [
              "(-50.0, 50.0)"
            ]
          },
          "metadata": {},
          "execution_count": 57
        },
        {
          "output_type": "display_data",
          "data": {
            "text/plain": [
              "<Figure size 432x288 with 1 Axes>"
            ],
            "image/png": "[encoded data removed]"
          },
          "metadata": {
            "needs_background": "light"
          }
        }
      ]
    },
    {
      "cell_type": "code",
      "source": [
        "plt.hist(filtered.Lucsize3, histtype = 'barstacked', bins = 100)\n",
        "plt.xlim(-50,50)\n",
        "plt.ylim(0,120)"
      ],
      "metadata": {
        "colab": {
          "base_uri": "https://localhost:8080/",
          "height": 286
        },
        "id": "NaWhalY56nnv",
        "outputId": "dd229a9a-a542-484d-d2f9-1b09651899cb"
      },
      "execution_count": 74,
      "outputs": [
        {
          "output_type": "execute_result",
          "data": {
            "text/plain": [
              "(0.0, 120.0)"
            ]
          },
          "metadata": {},
          "execution_count": 74
        },
        {
          "output_type": "display_data",
          "data": {
            "text/plain": [
              "<Figure size 432x288 with 1 Axes>"
            ],
            "image/png": "[encoded data removed]"
          },
          "metadata": {
            "needs_background": "light"
          }
        }
      ]
    },
    {
      "cell_type": "code",
      "source": [
        "plt.rc('font', family = 'NanumBarunGothic')\n",
        "plt.rcParams[\"figure.figsize\"] = (12,5)"
      ],
      "metadata": {
        "id": "YqGcEvj2TT2t"
      },
      "execution_count": 88,
      "outputs": []
    },
    {
      "cell_type": "code",
      "source": [
        "plt.hist(filtered.Lucsize3, bins = 1000)\n",
        "plt.xlim(-50,50)\n",
        "plt.grid(axis = 'x')\n",
        "plt.show()"
      ],
      "metadata": {
        "colab": {
          "base_uri": "https://localhost:8080/",
          "height": 217
        },
        "id": "ofe8Fkt3V1qV",
        "outputId": "7a52af28-d49a-40c4-8820-238693c7642b"
      },
      "execution_count": 16,
      "outputs": [
        {
          "output_type": "error",
          "ename": "NameError",
          "evalue": "ignored",
          "traceback": [
            "\u001b[0;31m---------------------------------------------------------------------------\u001b[0m",
            "\u001b[0;31mNameError\u001b[0m                                 Traceback (most recent call last)",
            "\u001b[0;32m<ipython-input-16-6dc2ae0220a9>\u001b[0m in \u001b[0;36m<module>\u001b[0;34m()\u001b[0m\n\u001b[0;32m----> 1\u001b[0;31m \u001b[0mplt\u001b[0m\u001b[0;34m.\u001b[0m\u001b[0mhist\u001b[0m\u001b[0;34m(\u001b[0m\u001b[0mfiltered\u001b[0m\u001b[0;34m.\u001b[0m\u001b[0mLucsize3\u001b[0m\u001b[0;34m,\u001b[0m \u001b[0mbins\u001b[0m \u001b[0;34m=\u001b[0m \u001b[0;36m1000\u001b[0m\u001b[0;34m)\u001b[0m\u001b[0;34m\u001b[0m\u001b[0;34m\u001b[0m\u001b[0m\n\u001b[0m\u001b[1;32m      2\u001b[0m \u001b[0mplt\u001b[0m\u001b[0;34m.\u001b[0m\u001b[0mxlim\u001b[0m\u001b[0;34m(\u001b[0m\u001b[0;34m-\u001b[0m\u001b[0;36m50\u001b[0m\u001b[0;34m,\u001b[0m\u001b[0;36m50\u001b[0m\u001b[0;34m)\u001b[0m\u001b[0;34m\u001b[0m\u001b[0;34m\u001b[0m\u001b[0m\n\u001b[1;32m      3\u001b[0m \u001b[0mplt\u001b[0m\u001b[0;34m.\u001b[0m\u001b[0mgrid\u001b[0m\u001b[0;34m(\u001b[0m\u001b[0maxis\u001b[0m \u001b[0;34m=\u001b[0m \u001b[0;34m'x'\u001b[0m\u001b[0;34m)\u001b[0m\u001b[0;34m\u001b[0m\u001b[0;34m\u001b[0m\u001b[0m\n\u001b[1;32m      4\u001b[0m \u001b[0mplt\u001b[0m\u001b[0;34m.\u001b[0m\u001b[0mshow\u001b[0m\u001b[0;34m(\u001b[0m\u001b[0;34m)\u001b[0m\u001b[0;34m\u001b[0m\u001b[0;34m\u001b[0m\u001b[0m\n",
            "\u001b[0;31mNameError\u001b[0m: name 'plt' is not defined"
          ]
        }
      ]
    },
    {
      "cell_type": "code",
      "source": [
        "sns.set_style('whitegrid')\n",
        "sns.distplot(filtered['Lucsize'])\n",
        "plt.show()"
      ],
      "metadata": {
        "colab": {
          "base_uri": "https://localhost:8080/",
          "height": 389
        },
        "id": "1WRFxXNSToN9",
        "outputId": "0ea51636-77bd-4f11-99c6-3ba9c8bb8258"
      },
      "execution_count": 101,
      "outputs": [
        {
          "output_type": "stream",
          "name": "stderr",
          "text": [
            "/usr/local/lib/python3.7/dist-packages/seaborn/distributions.py:2619: FutureWarning: `distplot` is a deprecated function and will be removed in a future version. Please adapt your code to use either `displot` (a figure-level function with similar flexibility) or `histplot` (an axes-level function for histograms).\n",
            "  warnings.warn(msg, FutureWarning)\n"
          ]
        },
        {
          "output_type": "display_data",
          "data": {
            "text/plain": [
              "<Figure size 864x360 with 1 Axes>"
            ],
            "image/png": "[encoded data removed]"
          },
          "metadata": {}
        }
      ]
    },
    {
      "cell_type": "markdown",
      "source": [
        ""
      ],
      "metadata": {
        "id": "ZEJxwiKLTTuU"
      }
    }
  ],
  "metadata": {
    "colab": {
      "collapsed_sections": [],
      "name": "CoLab_TermProj_2022-2.ipynb",
      "provenance": []
    },
    "kernelspec": {
      "display_name": "Python 3",
      "name": "python3"
    }
  },
  "nbformat": 4,
  "nbformat_minor": 0
}
